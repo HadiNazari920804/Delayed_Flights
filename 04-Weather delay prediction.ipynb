{
 "cells": [
  {
   "cell_type": "code",
   "execution_count": 2,
   "id": "79e710cd",
   "metadata": {},
   "outputs": [],
   "source": [
    "import pandas as pd\n",
    "import numpy as np\n",
    "\n",
    "from pandas.plotting import scatter_matrix,parallel_coordinates\n",
    "import seaborn as sns\n",
    "import plotly.express as px\n",
    "from folium.plugins import HeatMap\n",
    "import folium\n",
    "import matplotlib.pyplot as plt\n",
    "from matplotlib.pyplot import figure\n",
    "\n",
    "\n",
    "from sklearn.model_selection import train_test_split,cross_val_score,GridSearchCV\n",
    "from sklearn.discriminant_analysis import LinearDiscriminantAnalysis,QuadraticDiscriminantAnalysis\n",
    "from sklearn.naive_bayes import GaussianNB\n",
    "from sklearn.linear_model import LogisticRegression\n",
    "from sklearn.neighbors import KNeighborsClassifier\n",
    "from sklearn import tree\n",
    "from sklearn.ensemble import BaggingClassifier,RandomForestClassifier,AdaBoostClassifier\n",
    "from sklearn.preprocessing import scale,LabelEncoder,StandardScaler\n",
    "from sklearn import svm\n",
    "from sklearn.metrics import confusion_matrix, classification_report,silhouette_samples, silhouette_score\n",
    "import xgboost\n",
    "import tensorflow as tf\n",
    "from tensorflow import keras\n",
    "import shap\n",
    "\n",
    "from sklearn.cluster import KMeans\n",
    "from scipy.cluster.hierarchy import dendrogram, linkage,fcluster\n",
    "from yellowbrick.cluster.elbow import kelbow_visualizer\n",
    "\n",
    "\n",
    "from scipy import stats\n",
    "\n",
    "from statsmodels.tsa.ar_model import AutoReg, ARResults\n",
    "from statsmodels.tsa import stattools\n",
    "from statsmodels.tsa.arima.model import ARIMA\n",
    "from statsmodels.graphics.tsaplots import plot_acf\n",
    "from statsmodels.stats.diagnostic import acorr_ljungbox\n",
    "\n",
    "from datetime import datetime\n",
    "from meteostat import Point, Monthly"
   ]
  },
  {
   "cell_type": "code",
   "execution_count": 3,
   "id": "43520038",
   "metadata": {},
   "outputs": [],
   "source": [
    "df_wout=pd.read_csv('df_wout.csv')"
   ]
  },
  {
   "cell_type": "code",
   "execution_count": 22,
   "id": "ee5dc225",
   "metadata": {},
   "outputs": [],
   "source": [
    "df_us=pd.read_csv('uscities.csv')"
   ]
  },
  {
   "cell_type": "markdown",
   "id": "916efe72",
   "metadata": {},
   "source": [
    "# Predict Weather Delay By Weather Data"
   ]
  },
  {
   "cell_type": "code",
   "execution_count": 4,
   "id": "fc78eb26",
   "metadata": {},
   "outputs": [],
   "source": [
    "df_weather_del=df_wout.loc[:,['weather_ct','weather_delay','year_month','city']]"
   ]
  },
  {
   "cell_type": "code",
   "execution_count": 5,
   "id": "9d04afbf",
   "metadata": {},
   "outputs": [],
   "source": [
    "df_weather_del['weather_del_dur']=df_weather_del['weather_delay']/df_weather_del['weather_ct']\n",
    "\n",
    "df_weather_del['year_month_city']=df_weather_del['year_month']+'-'+df_weather_del['city']"
   ]
  },
  {
   "cell_type": "code",
   "execution_count": 6,
   "id": "39ea3e94",
   "metadata": {},
   "outputs": [
    {
     "data": {
      "text/plain": [
       "weather_ct             0\n",
       "weather_delay          0\n",
       "year_month             0\n",
       "city                   0\n",
       "weather_del_dur    19916\n",
       "year_month_city        0\n",
       "dtype: int64"
      ]
     },
     "execution_count": 6,
     "metadata": {},
     "output_type": "execute_result"
    }
   ],
   "source": [
    "np.sum(df_weather_del.isna())"
   ]
  },
  {
   "cell_type": "code",
   "execution_count": 7,
   "id": "3bc77bc6",
   "metadata": {},
   "outputs": [],
   "source": [
    "df_weather_del.fillna(0,inplace=True)"
   ]
  },
  {
   "cell_type": "code",
   "execution_count": 8,
   "id": "71d1319e",
   "metadata": {},
   "outputs": [
    {
     "data": {
      "text/plain": [
       "3204"
      ]
     },
     "execution_count": 8,
     "metadata": {},
     "output_type": "execute_result"
    }
   ],
   "source": [
    "np.argmax(df_weather_del.weather_del_dur)"
   ]
  },
  {
   "cell_type": "code",
   "execution_count": 9,
   "id": "49673c83",
   "metadata": {},
   "outputs": [
    {
     "data": {
      "text/plain": [
       "weather_ct                          0.0\n",
       "weather_delay                       1.0\n",
       "year_month                      2019-04\n",
       "city                       Philadelphia\n",
       "weather_del_dur                     inf\n",
       "year_month_city    2019-04-Philadelphia\n",
       "Name: 3204, dtype: object"
      ]
     },
     "execution_count": 9,
     "metadata": {},
     "output_type": "execute_result"
    }
   ],
   "source": [
    "df_weather_del.iloc[3204,:]"
   ]
  },
  {
   "cell_type": "code",
   "execution_count": 10,
   "id": "aae36d9b",
   "metadata": {},
   "outputs": [
    {
     "data": {
      "text/html": [
       "<div>\n",
       "<style scoped>\n",
       "    .dataframe tbody tr th:only-of-type {\n",
       "        vertical-align: middle;\n",
       "    }\n",
       "\n",
       "    .dataframe tbody tr th {\n",
       "        vertical-align: top;\n",
       "    }\n",
       "\n",
       "    .dataframe thead th {\n",
       "        text-align: right;\n",
       "    }\n",
       "</style>\n",
       "<table border=\"1\" class=\"dataframe\">\n",
       "  <thead>\n",
       "    <tr style=\"text-align: right;\">\n",
       "      <th></th>\n",
       "      <th>weather_ct</th>\n",
       "      <th>weather_delay</th>\n",
       "      <th>year_month</th>\n",
       "      <th>city</th>\n",
       "      <th>weather_del_dur</th>\n",
       "      <th>year_month_city</th>\n",
       "    </tr>\n",
       "  </thead>\n",
       "  <tbody>\n",
       "    <tr>\n",
       "      <th>3204</th>\n",
       "      <td>0.0</td>\n",
       "      <td>1.0</td>\n",
       "      <td>2019-04</td>\n",
       "      <td>Philadelphia</td>\n",
       "      <td>inf</td>\n",
       "      <td>2019-04-Philadelphia</td>\n",
       "    </tr>\n",
       "    <tr>\n",
       "      <th>7367</th>\n",
       "      <td>0.0</td>\n",
       "      <td>1.0</td>\n",
       "      <td>2012-11</td>\n",
       "      <td>Portland</td>\n",
       "      <td>inf</td>\n",
       "      <td>2012-11-Portland</td>\n",
       "    </tr>\n",
       "    <tr>\n",
       "      <th>7987</th>\n",
       "      <td>0.0</td>\n",
       "      <td>2.0</td>\n",
       "      <td>2019-10</td>\n",
       "      <td>Miami</td>\n",
       "      <td>inf</td>\n",
       "      <td>2019-10-Miami</td>\n",
       "    </tr>\n",
       "    <tr>\n",
       "      <th>8407</th>\n",
       "      <td>0.0</td>\n",
       "      <td>1.0</td>\n",
       "      <td>2009-03</td>\n",
       "      <td>Denver</td>\n",
       "      <td>inf</td>\n",
       "      <td>2009-03-Denver</td>\n",
       "    </tr>\n",
       "    <tr>\n",
       "      <th>27328</th>\n",
       "      <td>0.0</td>\n",
       "      <td>1.0</td>\n",
       "      <td>2005-03</td>\n",
       "      <td>Chicago</td>\n",
       "      <td>inf</td>\n",
       "      <td>2005-03-Chicago</td>\n",
       "    </tr>\n",
       "    <tr>\n",
       "      <th>52556</th>\n",
       "      <td>0.0</td>\n",
       "      <td>1.0</td>\n",
       "      <td>2007-09</td>\n",
       "      <td>Atlanta</td>\n",
       "      <td>inf</td>\n",
       "      <td>2007-09-Atlanta</td>\n",
       "    </tr>\n",
       "    <tr>\n",
       "      <th>66694</th>\n",
       "      <td>0.0</td>\n",
       "      <td>1.0</td>\n",
       "      <td>2015-12</td>\n",
       "      <td>Portland</td>\n",
       "      <td>inf</td>\n",
       "      <td>2015-12-Portland</td>\n",
       "    </tr>\n",
       "  </tbody>\n",
       "</table>\n",
       "</div>"
      ],
      "text/plain": [
       "       weather_ct  weather_delay year_month          city  weather_del_dur  \\\n",
       "3204          0.0            1.0    2019-04  Philadelphia              inf   \n",
       "7367          0.0            1.0    2012-11      Portland              inf   \n",
       "7987          0.0            2.0    2019-10         Miami              inf   \n",
       "8407          0.0            1.0    2009-03        Denver              inf   \n",
       "27328         0.0            1.0    2005-03       Chicago              inf   \n",
       "52556         0.0            1.0    2007-09       Atlanta              inf   \n",
       "66694         0.0            1.0    2015-12      Portland              inf   \n",
       "\n",
       "            year_month_city  \n",
       "3204   2019-04-Philadelphia  \n",
       "7367       2012-11-Portland  \n",
       "7987          2019-10-Miami  \n",
       "8407         2009-03-Denver  \n",
       "27328       2005-03-Chicago  \n",
       "52556       2007-09-Atlanta  \n",
       "66694      2015-12-Portland  "
      ]
     },
     "execution_count": 10,
     "metadata": {},
     "output_type": "execute_result"
    }
   ],
   "source": [
    "df_weather_del[df_weather_del['weather_del_dur']==np.inf]"
   ]
  },
  {
   "cell_type": "code",
   "execution_count": 11,
   "id": "b46ac722",
   "metadata": {},
   "outputs": [],
   "source": [
    "df_weather_del=df_weather_del.drop(df_weather_del[df_weather_del['weather_del_dur']==np.inf].index,axis=0)"
   ]
  },
  {
   "cell_type": "code",
   "execution_count": 12,
   "id": "4b047a8e",
   "metadata": {},
   "outputs": [
    {
     "data": {
      "image/png": "[encoded data removed]",
      "text/plain": [
       "<Figure size 800x550 with 1 Axes>"
      ]
     },
     "metadata": {},
     "output_type": "display_data"
    }
   ],
   "source": [
    "#plt.hist(df_weather_del.weather_del_dur,bins=100);\n",
    "plt.hist(df_weather_del.weather_ct,bins=100)\n",
    "plt.grid();"
   ]
  },
  {
   "cell_type": "code",
   "execution_count": 13,
   "id": "980cbebb",
   "metadata": {},
   "outputs": [
    {
     "data": {
      "text/plain": [
       "45624"
      ]
     },
     "execution_count": 13,
     "metadata": {},
     "output_type": "execute_result"
    }
   ],
   "source": [
    "np.argmax(df_weather_del.weather_del_dur)"
   ]
  },
  {
   "cell_type": "code",
   "execution_count": 14,
   "id": "e7f79f2d",
   "metadata": {
    "scrolled": true
   },
   "outputs": [
    {
     "data": {
      "text/plain": [
       "weather_ct                    0.99\n",
       "weather_delay                815.0\n",
       "year_month                 2017-11\n",
       "city                       Chicago\n",
       "weather_del_dur         823.232323\n",
       "year_month_city    2017-11-Chicago\n",
       "Name: 45629, dtype: object"
      ]
     },
     "execution_count": 14,
     "metadata": {},
     "output_type": "execute_result"
    }
   ],
   "source": [
    "df_weather_del.iloc[45624,:]"
   ]
  },
  {
   "cell_type": "code",
   "execution_count": 15,
   "id": "77ca822c",
   "metadata": {},
   "outputs": [],
   "source": [
    "#Dealing with outliers\n",
    "#zscore method\n",
    "\n",
    "out_low=df_weather_del[stats.zscore(df_weather_del['weather_del_dur'])<-3]\n",
    "out_high=df_weather_del[stats.zscore(df_weather_del['weather_del_dur'])>3]"
   ]
  },
  {
   "cell_type": "code",
   "execution_count": 16,
   "id": "01f52518",
   "metadata": {},
   "outputs": [
    {
     "data": {
      "text/plain": [
       "(0, 6)"
      ]
     },
     "execution_count": 16,
     "metadata": {},
     "output_type": "execute_result"
    }
   ],
   "source": [
    "out_low.shape"
   ]
  },
  {
   "cell_type": "code",
   "execution_count": 17,
   "id": "d4d57bd5",
   "metadata": {},
   "outputs": [
    {
     "data": {
      "text/plain": [
       "(985, 6)"
      ]
     },
     "execution_count": 17,
     "metadata": {},
     "output_type": "execute_result"
    }
   ],
   "source": [
    "out_high.shape"
   ]
  },
  {
   "cell_type": "code",
   "execution_count": 18,
   "id": "d939a41f",
   "metadata": {},
   "outputs": [],
   "source": [
    "df_weather_del_wout=df_weather_del.drop(out_low.index,axis=0)\n",
    "df_weather_del_wout=df_weather_del.drop(out_high.index,axis=0)"
   ]
  },
  {
   "cell_type": "code",
   "execution_count": 20,
   "id": "d46fac28",
   "metadata": {
    "scrolled": false
   },
   "outputs": [
    {
     "data": {
      "image/png": "[encoded data removed]",
      "text/plain": [
       "<Figure size 800x550 with 1 Axes>"
      ]
     },
     "metadata": {},
     "output_type": "display_data"
    }
   ],
   "source": [
    "plt.hist(df_weather_del_wout.weather_del_dur,bins=100)\n",
    "plt.grid();"
   ]
  },
  {
   "cell_type": "code",
   "execution_count": 21,
   "id": "959b0c58",
   "metadata": {
    "scrolled": false
   },
   "outputs": [
    {
     "name": "stderr",
     "output_type": "stream",
     "text": [
      "FutureWarning: Pass the following variable as a keyword arg: x. From version 0.12, the only valid positional argument will be `data`, and passing other arguments without an explicit keyword will result in an error or misinterpretation.\n"
     ]
    },
    {
     "data": {
      "text/plain": [
       "<AxesSubplot:xlabel='weather_del_dur'>"
      ]
     },
     "execution_count": 21,
     "metadata": {},
     "output_type": "execute_result"
    },
    {
     "data": {
      "image/png": "[encoded data removed]",
      "text/plain": [
       "<Figure size 800x550 with 1 Axes>"
      ]
     },
     "metadata": {},
     "output_type": "display_data"
    }
   ],
   "source": [
    "sns.boxenplot(df_weather_del_wout.weather_del_dur)"
   ]
  },
  {
   "cell_type": "code",
   "execution_count": 23,
   "id": "fdbf73eb",
   "metadata": {},
   "outputs": [
    {
     "name": "stderr",
     "output_type": "stream",
     "text": [
      "Warning: Cannot load monthly/KCGX0.csv.gz from https://bulk.meteostat.net/v2/\n"
     ]
    }
   ],
   "source": [
    "start = datetime(2003, 1, 1)\n",
    "end = datetime(2020, 12, 31)\n",
    "d = pd.DataFrame()\n",
    "for i in range(df_us.shape[0]):\n",
    "    point=Point(df_us.iloc[i,3],df_us.iloc[i,4])\n",
    "    data = Monthly(point, start, end)\n",
    "    temp=data.fetch()\n",
    "    temp['city']=df_us.iloc[i,0]\n",
    "    d = pd.concat([d, temp])"
   ]
  },
  {
   "cell_type": "markdown",
   "id": "c4695b87",
   "metadata": {},
   "source": [
    "# Weather Data Description:\n",
    "\n",
    "* tavg \tThe average air temperature in °C \tFloat64\n",
    "* tmin \tThe minimum air temperature in °C \tFloat64\n",
    "* tmax \tThe maximum air temperature in °C \tFloat64\n",
    "* prcp \tThe monthly precipitation total in mm \tFloat64\n",
    "* wspd \tThe average wind speed in km/h \tFloat64\n",
    "* pres \tThe average sea-level air pressure in hPa \tFloat64\n",
    "* tsun \tThe monthly sunshine total in minutes (m) \tFloat64"
   ]
  },
  {
   "cell_type": "code",
   "execution_count": 24,
   "id": "f067c19a",
   "metadata": {},
   "outputs": [
    {
     "data": {
      "text/html": [
       "<div>\n",
       "<style scoped>\n",
       "    .dataframe tbody tr th:only-of-type {\n",
       "        vertical-align: middle;\n",
       "    }\n",
       "\n",
       "    .dataframe tbody tr th {\n",
       "        vertical-align: top;\n",
       "    }\n",
       "\n",
       "    .dataframe thead th {\n",
       "        text-align: right;\n",
       "    }\n",
       "</style>\n",
       "<table border=\"1\" class=\"dataframe\">\n",
       "  <thead>\n",
       "    <tr style=\"text-align: right;\">\n",
       "      <th></th>\n",
       "      <th>tavg</th>\n",
       "      <th>tmin</th>\n",
       "      <th>tmax</th>\n",
       "      <th>prcp</th>\n",
       "      <th>wspd</th>\n",
       "      <th>pres</th>\n",
       "      <th>tsun</th>\n",
       "      <th>city</th>\n",
       "    </tr>\n",
       "    <tr>\n",
       "      <th>time</th>\n",
       "      <th></th>\n",
       "      <th></th>\n",
       "      <th></th>\n",
       "      <th></th>\n",
       "      <th></th>\n",
       "      <th></th>\n",
       "      <th></th>\n",
       "      <th></th>\n",
       "    </tr>\n",
       "  </thead>\n",
       "  <tbody>\n",
       "    <tr>\n",
       "      <th>2003-01-01</th>\n",
       "      <td>-2.2</td>\n",
       "      <td>-6.0</td>\n",
       "      <td>1.0</td>\n",
       "      <td>74.8</td>\n",
       "      <td>19.2</td>\n",
       "      <td>1015.3</td>\n",
       "      <td>NaN</td>\n",
       "      <td>New York</td>\n",
       "    </tr>\n",
       "    <tr>\n",
       "      <th>2003-02-01</th>\n",
       "      <td>-1.4</td>\n",
       "      <td>-4.9</td>\n",
       "      <td>2.0</td>\n",
       "      <td>99.1</td>\n",
       "      <td>17.7</td>\n",
       "      <td>NaN</td>\n",
       "      <td>NaN</td>\n",
       "      <td>New York</td>\n",
       "    </tr>\n",
       "    <tr>\n",
       "      <th>2003-03-01</th>\n",
       "      <td>6.3</td>\n",
       "      <td>0.8</td>\n",
       "      <td>11.5</td>\n",
       "      <td>101.1</td>\n",
       "      <td>15.3</td>\n",
       "      <td>1015.9</td>\n",
       "      <td>NaN</td>\n",
       "      <td>New York</td>\n",
       "    </tr>\n",
       "    <tr>\n",
       "      <th>2003-04-01</th>\n",
       "      <td>10.1</td>\n",
       "      <td>5.3</td>\n",
       "      <td>14.5</td>\n",
       "      <td>61.5</td>\n",
       "      <td>17.9</td>\n",
       "      <td>NaN</td>\n",
       "      <td>NaN</td>\n",
       "      <td>New York</td>\n",
       "    </tr>\n",
       "    <tr>\n",
       "      <th>2003-05-01</th>\n",
       "      <td>15.1</td>\n",
       "      <td>10.6</td>\n",
       "      <td>19.3</td>\n",
       "      <td>87.7</td>\n",
       "      <td>13.7</td>\n",
       "      <td>NaN</td>\n",
       "      <td>NaN</td>\n",
       "      <td>New York</td>\n",
       "    </tr>\n",
       "  </tbody>\n",
       "</table>\n",
       "</div>"
      ],
      "text/plain": [
       "            tavg  tmin  tmax   prcp  wspd    pres  tsun      city\n",
       "time                                                             \n",
       "2003-01-01  -2.2  -6.0   1.0   74.8  19.2  1015.3   NaN  New York\n",
       "2003-02-01  -1.4  -4.9   2.0   99.1  17.7     NaN   NaN  New York\n",
       "2003-03-01   6.3   0.8  11.5  101.1  15.3  1015.9   NaN  New York\n",
       "2003-04-01  10.1   5.3  14.5   61.5  17.9     NaN   NaN  New York\n",
       "2003-05-01  15.1  10.6  19.3   87.7  13.7     NaN   NaN  New York"
      ]
     },
     "execution_count": 24,
     "metadata": {},
     "output_type": "execute_result"
    }
   ],
   "source": [
    "d.head()"
   ]
  },
  {
   "cell_type": "code",
   "execution_count": 25,
   "id": "16022ec7",
   "metadata": {},
   "outputs": [
    {
     "data": {
      "text/plain": [
       "(5832, 8)"
      ]
     },
     "execution_count": 25,
     "metadata": {},
     "output_type": "execute_result"
    }
   ],
   "source": [
    "d.shape"
   ]
  },
  {
   "cell_type": "code",
   "execution_count": 26,
   "id": "a102d863",
   "metadata": {},
   "outputs": [
    {
     "data": {
      "text/plain": [
       "tavg      31\n",
       "tmin       0\n",
       "tmax       0\n",
       "prcp       1\n",
       "wspd       6\n",
       "pres    1218\n",
       "tsun    5475\n",
       "city       0\n",
       "dtype: int64"
      ]
     },
     "execution_count": 26,
     "metadata": {},
     "output_type": "execute_result"
    }
   ],
   "source": [
    "np.sum(d.isna())"
   ]
  },
  {
   "cell_type": "code",
   "execution_count": 27,
   "id": "dd5c0608",
   "metadata": {},
   "outputs": [],
   "source": [
    "d1=d.drop(['pres','tsun'],axis=1)"
   ]
  },
  {
   "cell_type": "code",
   "execution_count": 28,
   "id": "d737fb10",
   "metadata": {},
   "outputs": [
    {
     "data": {
      "text/plain": [
       "tavg    31\n",
       "tmin     0\n",
       "tmax     0\n",
       "prcp     1\n",
       "wspd     6\n",
       "city     0\n",
       "dtype: int64"
      ]
     },
     "execution_count": 28,
     "metadata": {},
     "output_type": "execute_result"
    }
   ],
   "source": [
    "np.sum(d1.isna())"
   ]
  },
  {
   "cell_type": "code",
   "execution_count": 29,
   "id": "3a06f816",
   "metadata": {},
   "outputs": [],
   "source": [
    "df_weather=d1.dropna()"
   ]
  },
  {
   "cell_type": "code",
   "execution_count": 30,
   "id": "1f9ea975",
   "metadata": {},
   "outputs": [
    {
     "data": {
      "text/html": [
       "<div>\n",
       "<style scoped>\n",
       "    .dataframe tbody tr th:only-of-type {\n",
       "        vertical-align: middle;\n",
       "    }\n",
       "\n",
       "    .dataframe tbody tr th {\n",
       "        vertical-align: top;\n",
       "    }\n",
       "\n",
       "    .dataframe thead th {\n",
       "        text-align: right;\n",
       "    }\n",
       "</style>\n",
       "<table border=\"1\" class=\"dataframe\">\n",
       "  <thead>\n",
       "    <tr style=\"text-align: right;\">\n",
       "      <th></th>\n",
       "      <th>tavg</th>\n",
       "      <th>tmin</th>\n",
       "      <th>tmax</th>\n",
       "      <th>prcp</th>\n",
       "      <th>wspd</th>\n",
       "      <th>city</th>\n",
       "    </tr>\n",
       "    <tr>\n",
       "      <th>time</th>\n",
       "      <th></th>\n",
       "      <th></th>\n",
       "      <th></th>\n",
       "      <th></th>\n",
       "      <th></th>\n",
       "      <th></th>\n",
       "    </tr>\n",
       "  </thead>\n",
       "  <tbody>\n",
       "    <tr>\n",
       "      <th>2003-01-01</th>\n",
       "      <td>-2.2</td>\n",
       "      <td>-6.0</td>\n",
       "      <td>1.0</td>\n",
       "      <td>74.8</td>\n",
       "      <td>19.2</td>\n",
       "      <td>New York</td>\n",
       "    </tr>\n",
       "    <tr>\n",
       "      <th>2003-02-01</th>\n",
       "      <td>-1.4</td>\n",
       "      <td>-4.9</td>\n",
       "      <td>2.0</td>\n",
       "      <td>99.1</td>\n",
       "      <td>17.7</td>\n",
       "      <td>New York</td>\n",
       "    </tr>\n",
       "    <tr>\n",
       "      <th>2003-03-01</th>\n",
       "      <td>6.3</td>\n",
       "      <td>0.8</td>\n",
       "      <td>11.5</td>\n",
       "      <td>101.1</td>\n",
       "      <td>15.3</td>\n",
       "      <td>New York</td>\n",
       "    </tr>\n",
       "    <tr>\n",
       "      <th>2003-04-01</th>\n",
       "      <td>10.1</td>\n",
       "      <td>5.3</td>\n",
       "      <td>14.5</td>\n",
       "      <td>61.5</td>\n",
       "      <td>17.9</td>\n",
       "      <td>New York</td>\n",
       "    </tr>\n",
       "    <tr>\n",
       "      <th>2003-05-01</th>\n",
       "      <td>15.1</td>\n",
       "      <td>10.6</td>\n",
       "      <td>19.3</td>\n",
       "      <td>87.7</td>\n",
       "      <td>13.7</td>\n",
       "      <td>New York</td>\n",
       "    </tr>\n",
       "    <tr>\n",
       "      <th>...</th>\n",
       "      <td>...</td>\n",
       "      <td>...</td>\n",
       "      <td>...</td>\n",
       "      <td>...</td>\n",
       "      <td>...</td>\n",
       "      <td>...</td>\n",
       "    </tr>\n",
       "    <tr>\n",
       "      <th>2020-08-01</th>\n",
       "      <td>29.4</td>\n",
       "      <td>26.4</td>\n",
       "      <td>33.0</td>\n",
       "      <td>203.0</td>\n",
       "      <td>12.4</td>\n",
       "      <td>Fort Lauderdale</td>\n",
       "    </tr>\n",
       "    <tr>\n",
       "      <th>2020-09-01</th>\n",
       "      <td>28.3</td>\n",
       "      <td>25.7</td>\n",
       "      <td>31.9</td>\n",
       "      <td>410.0</td>\n",
       "      <td>11.8</td>\n",
       "      <td>Fort Lauderdale</td>\n",
       "    </tr>\n",
       "    <tr>\n",
       "      <th>2020-10-01</th>\n",
       "      <td>27.4</td>\n",
       "      <td>24.9</td>\n",
       "      <td>30.3</td>\n",
       "      <td>362.0</td>\n",
       "      <td>14.4</td>\n",
       "      <td>Fort Lauderdale</td>\n",
       "    </tr>\n",
       "    <tr>\n",
       "      <th>2020-11-01</th>\n",
       "      <td>25.0</td>\n",
       "      <td>22.6</td>\n",
       "      <td>27.7</td>\n",
       "      <td>282.0</td>\n",
       "      <td>18.2</td>\n",
       "      <td>Fort Lauderdale</td>\n",
       "    </tr>\n",
       "    <tr>\n",
       "      <th>2020-12-01</th>\n",
       "      <td>20.0</td>\n",
       "      <td>15.5</td>\n",
       "      <td>24.6</td>\n",
       "      <td>29.0</td>\n",
       "      <td>12.2</td>\n",
       "      <td>Fort Lauderdale</td>\n",
       "    </tr>\n",
       "  </tbody>\n",
       "</table>\n",
       "<p>5796 rows × 6 columns</p>\n",
       "</div>"
      ],
      "text/plain": [
       "            tavg  tmin  tmax   prcp  wspd             city\n",
       "time                                                      \n",
       "2003-01-01  -2.2  -6.0   1.0   74.8  19.2         New York\n",
       "2003-02-01  -1.4  -4.9   2.0   99.1  17.7         New York\n",
       "2003-03-01   6.3   0.8  11.5  101.1  15.3         New York\n",
       "2003-04-01  10.1   5.3  14.5   61.5  17.9         New York\n",
       "2003-05-01  15.1  10.6  19.3   87.7  13.7         New York\n",
       "...          ...   ...   ...    ...   ...              ...\n",
       "2020-08-01  29.4  26.4  33.0  203.0  12.4  Fort Lauderdale\n",
       "2020-09-01  28.3  25.7  31.9  410.0  11.8  Fort Lauderdale\n",
       "2020-10-01  27.4  24.9  30.3  362.0  14.4  Fort Lauderdale\n",
       "2020-11-01  25.0  22.6  27.7  282.0  18.2  Fort Lauderdale\n",
       "2020-12-01  20.0  15.5  24.6   29.0  12.2  Fort Lauderdale\n",
       "\n",
       "[5796 rows x 6 columns]"
      ]
     },
     "execution_count": 30,
     "metadata": {},
     "output_type": "execute_result"
    }
   ],
   "source": [
    "df_weather"
   ]
  },
  {
   "cell_type": "code",
   "execution_count": 31,
   "id": "1ec15088",
   "metadata": {},
   "outputs": [
    {
     "name": "stderr",
     "output_type": "stream",
     "text": [
      "SettingWithCopyWarning: \n",
      "A value is trying to be set on a copy of a slice from a DataFrame.\n",
      "Try using .loc[row_indexer,col_indexer] = value instead\n",
      "\n",
      "See the caveats in the documentation: https://pandas.pydata.org/pandas-docs/stable/user_guide/indexing.html#returning-a-view-versus-a-copy\n"
     ]
    }
   ],
   "source": [
    "df_weather['date']=df_weather.index"
   ]
  },
  {
   "cell_type": "code",
   "execution_count": 32,
   "id": "d7ef4150",
   "metadata": {},
   "outputs": [],
   "source": [
    "df_weather.reset_index(inplace=True)"
   ]
  },
  {
   "cell_type": "code",
   "execution_count": 33,
   "id": "e7218274",
   "metadata": {},
   "outputs": [
    {
     "name": "stderr",
     "output_type": "stream",
     "text": [
      "SettingWithCopyWarning: \n",
      "A value is trying to be set on a copy of a slice from a DataFrame.\n",
      "Try using .loc[row_indexer,col_indexer] = value instead\n",
      "\n",
      "See the caveats in the documentation: https://pandas.pydata.org/pandas-docs/stable/user_guide/indexing.html#returning-a-view-versus-a-copy\n"
     ]
    }
   ],
   "source": [
    "df_weather['year_month']=pd.to_datetime(df_weather['date']).dt.strftime('%Y-%m')"
   ]
  },
  {
   "cell_type": "code",
   "execution_count": 34,
   "id": "06b8929b",
   "metadata": {},
   "outputs": [
    {
     "name": "stderr",
     "output_type": "stream",
     "text": [
      "SettingWithCopyWarning: \n",
      "A value is trying to be set on a copy of a slice from a DataFrame.\n",
      "Try using .loc[row_indexer,col_indexer] = value instead\n",
      "\n",
      "See the caveats in the documentation: https://pandas.pydata.org/pandas-docs/stable/user_guide/indexing.html#returning-a-view-versus-a-copy\n"
     ]
    }
   ],
   "source": [
    "df_weather['year_month_city']=df_weather['year_month']+\"-\"+df_weather['city']"
   ]
  },
  {
   "cell_type": "code",
   "execution_count": 35,
   "id": "97880fd1",
   "metadata": {},
   "outputs": [],
   "source": [
    "df_weather_merge=df_weather.loc[:,['year_month_city','tavg', 'prcp', 'wspd']]"
   ]
  },
  {
   "cell_type": "code",
   "execution_count": 36,
   "id": "78aed141",
   "metadata": {},
   "outputs": [],
   "source": [
    "df_weather_del_wout=pd.merge(df_weather_del_wout,df_weather_merge,how='left')"
   ]
  },
  {
   "cell_type": "code",
   "execution_count": 37,
   "id": "3c739be6",
   "metadata": {},
   "outputs": [],
   "source": [
    "df_weather_del_pred=df_weather_del_wout.loc[:,['weather_del_dur','tavg', 'prcp', 'wspd']]"
   ]
  },
  {
   "cell_type": "code",
   "execution_count": 38,
   "id": "395ad837",
   "metadata": {},
   "outputs": [
    {
     "data": {
      "text/plain": [
       "count    71693.000000\n",
       "mean        54.994128\n",
       "std         47.593829\n",
       "min          0.000000\n",
       "25%          0.000000\n",
       "50%         53.668379\n",
       "75%         83.516484\n",
       "max        230.136986\n",
       "Name: weather_del_dur, dtype: float64"
      ]
     },
     "execution_count": 38,
     "metadata": {},
     "output_type": "execute_result"
    }
   ],
   "source": [
    "df_weather_del_pred.weather_del_dur.describe()"
   ]
  },
  {
   "cell_type": "markdown",
   "id": "451533e7",
   "metadata": {},
   "source": [
    "# Wether delay classes:\n",
    "* less than or equal to 5 min = No Delay\n",
    "* delay greater than 5 min = Delay"
   ]
  },
  {
   "cell_type": "code",
   "execution_count": 39,
   "id": "46d64f71",
   "metadata": {},
   "outputs": [],
   "source": [
    "df_weather_del_pred['del_weather_class']=df_weather_del_pred['weather_del_dur'].agg(lambda x: 0 if x<=5 else 1 )"
   ]
  },
  {
   "cell_type": "code",
   "execution_count": 40,
   "id": "13561ea8",
   "metadata": {},
   "outputs": [],
   "source": [
    "data_w_org=df_weather_del_pred.drop(['weather_del_dur'],axis=1)"
   ]
  },
  {
   "cell_type": "code",
   "execution_count": 41,
   "id": "cd547074",
   "metadata": {},
   "outputs": [
    {
     "data": {
      "text/plain": [
       "1    51777\n",
       "0    19916\n",
       "Name: del_weather_class, dtype: int64"
      ]
     },
     "execution_count": 41,
     "metadata": {},
     "output_type": "execute_result"
    }
   ],
   "source": [
    "data_w_org.del_weather_class.value_counts()"
   ]
  },
  {
   "cell_type": "code",
   "execution_count": 42,
   "id": "6c946a60",
   "metadata": {},
   "outputs": [],
   "source": [
    "#2 class\n",
    "dsw = np.random.rand(len(data_w_org[data_w_org['del_weather_class']==1])) < 0.5\n",
    "data_w_org_ds=pd.concat([data_w_org[data_w_org['del_weather_class']==1][dsw],\n",
    "                                 data_w_org[data_w_org['del_weather_class']==0]])\n",
    "data_w_org_ds=data_w_org_ds.sample(frac=1)"
   ]
  },
  {
   "cell_type": "code",
   "execution_count": 43,
   "id": "97bab46c",
   "metadata": {},
   "outputs": [
    {
     "data": {
      "text/plain": [
       "1    25802\n",
       "0    19916\n",
       "Name: del_weather_class, dtype: int64"
      ]
     },
     "execution_count": 43,
     "metadata": {},
     "output_type": "execute_result"
    }
   ],
   "source": [
    "data_w_org_ds.del_weather_class.value_counts()"
   ]
  },
  {
   "cell_type": "code",
   "execution_count": 44,
   "id": "2a8be81c",
   "metadata": {},
   "outputs": [],
   "source": [
    "X_w=data_w_org_ds.loc[:,['tavg', 'prcp', 'wspd']]\n",
    "y_w=data_w_org_ds.loc[:,['del_weather_class']]"
   ]
  },
  {
   "cell_type": "code",
   "execution_count": 45,
   "id": "50e447b9",
   "metadata": {},
   "outputs": [],
   "source": [
    "Xw_train,Xw_test,yw_train,yw_test=train_test_split(X_w,y_w,test_size=0.2)"
   ]
  },
  {
   "cell_type": "code",
   "execution_count": 46,
   "id": "70c00cf0",
   "metadata": {},
   "outputs": [
    {
     "name": "stdout",
     "output_type": "stream",
     "text": [
      "XGBoost Classifier : \n",
      " [[1559 2465]\n",
      " [1699 3421]]\n",
      "\n",
      "               precision    recall  f1-score   support\n",
      "\n",
      "           0       0.48      0.39      0.43      4024\n",
      "           1       0.58      0.67      0.62      5120\n",
      "\n",
      "    accuracy                           0.54      9144\n",
      "   macro avg       0.53      0.53      0.52      9144\n",
      "weighted avg       0.54      0.54      0.54      9144\n",
      "\n"
     ]
    }
   ],
   "source": [
    "xgbw=xgboost.XGBClassifier(eta= 0.6, max_depth= 15, n_estimators= 100)\n",
    "xgbw.fit(Xw_train,yw_train)\n",
    "cmdxgbw=confusion_matrix(yw_test,xgbw.predict(Xw_test))\n",
    "print('XGBoost Classifier : \\n' , cmdxgbw)\n",
    "print('\\n',classification_report(yw_test, xgbw.predict(Xw_test)))"
   ]
  },
  {
   "cell_type": "code",
   "execution_count": 47,
   "id": "537bce65",
   "metadata": {},
   "outputs": [
    {
     "name": "stdout",
     "output_type": "stream",
     "text": [
      "Average of cross validation scores = 0.7065543163625037 \n",
      "\n",
      "Standard deviation of cross validation scores = 0.0035330308101642754 \n",
      "\n",
      "XGBoost Classifier : \n",
      " [[ 9811 10105]\n",
      " [14644 37133]] \n",
      "\n",
      "\n",
      "               precision    recall  f1-score   support\n",
      "\n",
      "           0       0.40      0.49      0.44     19916\n",
      "           1       0.79      0.72      0.75     51777\n",
      "\n",
      "    accuracy                           0.65     71693\n",
      "   macro avg       0.59      0.60      0.60     71693\n",
      "weighted avg       0.68      0.65      0.66     71693\n",
      "\n"
     ]
    }
   ],
   "source": [
    "#Evaluate Model by training whole dataset with cross validation algorithm to prevent overfitting\n",
    "data_w_org=data_w_org.sample(frac=1)\n",
    "X_w_org=data_w_org.loc[:,['tavg', 'prcp', 'wspd']]\n",
    "y_w_org=data_w_org.loc[:,['del_weather_class']]\n",
    "\n",
    "\n",
    "CVS_xgb_w=cross_val_score(xgbw,X_w_org,y_w_org,cv=10)\n",
    "\n",
    "cmd_xgb_org=confusion_matrix(y_w_org,xgbw.predict(X_w_org))\n",
    "\n",
    "print( 'Average of cross validation scores =' , np.mean(CVS_xgb_w) , '\\n')\n",
    "print( 'Standard deviation of cross validation scores =' , np.std(CVS_xgb_w) , '\\n' )\n",
    "print('XGBoost Classifier : \\n' , cmd_xgb_org,'\\n')\n",
    "print('\\n',classification_report(y_w_org, xgbw.predict(X_w_org)))"
   ]
  },
  {
   "cell_type": "code",
   "execution_count": 303,
   "id": "0cbb791f",
   "metadata": {
    "scrolled": true
   },
   "outputs": [
    {
     "name": "stderr",
     "output_type": "stream",
     "text": [
      "Exact explainer: 9169it [01:47, 77.08it/s]                                                                             \n"
     ]
    }
   ],
   "source": [
    "explainer=shap.Explainer(xgbw.predict,Xw_test)\n",
    "shap_values=explainer(Xw_test)"
   ]
  },
  {
   "cell_type": "code",
   "execution_count": 304,
   "id": "9d6f397e",
   "metadata": {},
   "outputs": [
    {
     "data": {
      "image/png": "[encoded data removed]",
      "text/plain": [
       "<Figure size 800x300 with 1 Axes>"
      ]
     },
     "metadata": {},
     "output_type": "display_data"
    }
   ],
   "source": [
    "shap.plots.bar(shap_values)"
   ]
  },
  {
   "cell_type": "code",
   "execution_count": 305,
   "id": "a6089492",
   "metadata": {},
   "outputs": [
    {
     "data": {
      "image/png": "[encoded data removed]",
      "text/plain": [
       "<Figure size 800x270 with 2 Axes>"
      ]
     },
     "metadata": {},
     "output_type": "display_data"
    }
   ],
   "source": [
    "shap.summary_plot(shap_values)"
   ]
  },
  {
   "cell_type": "code",
   "execution_count": 306,
   "id": "ef61754d",
   "metadata": {},
   "outputs": [
    {
     "data": {
      "image/png": "[encoded data removed]",
      "text/plain": [
       "<Figure size 800x270 with 2 Axes>"
      ]
     },
     "metadata": {},
     "output_type": "display_data"
    }
   ],
   "source": [
    "shap.summary_plot(shap_values, plot_type='violin')"
   ]
  },
  {
   "cell_type": "code",
   "execution_count": 307,
   "id": "fd47dbe3",
   "metadata": {},
   "outputs": [
    {
     "data": {
      "image/png": "[encoded data removed]",
      "text/plain": [
       "<Figure size 800x300 with 1 Axes>"
      ]
     },
     "metadata": {},
     "output_type": "display_data"
    }
   ],
   "source": [
    "shap.plots.bar(shap_values[1])"
   ]
  },
  {
   "cell_type": "code",
   "execution_count": 324,
   "id": "227e7394",
   "metadata": {
    "scrolled": true
   },
   "outputs": [
    {
     "data": {
      "image/png": "[encoded data removed]",
      "text/plain": [
       "<Figure size 800x300 with 3 Axes>"
      ]
     },
     "metadata": {},
     "output_type": "display_data"
    }
   ],
   "source": [
    "shap.plots.waterfall(shap_values[100])"
   ]
  },
  {
   "cell_type": "code",
   "execution_count": 48,
   "id": "2dd36228",
   "metadata": {},
   "outputs": [],
   "source": [
    "#New Observation\n",
    "tavg=20\n",
    "prcp=0\n",
    "wspd=16"
   ]
  },
  {
   "cell_type": "code",
   "execution_count": 49,
   "id": "a636776d",
   "metadata": {},
   "outputs": [
    {
     "name": "stdout",
     "output_type": "stream",
     "text": [
      "No Delay due to weather 😀\n"
     ]
    }
   ],
   "source": [
    "predw=xgbw.predict(np.array([[tavg,prcp,wspd]]))[0]\n",
    "if  predw==1:\n",
    "    print(\"Delay !!!\")\n",
    "else:\n",
    "    print( \"No Delay due to weather\",\"\\U0001f600\")\n",
    "\n",
    "#Note: It's the predicted delay due to weather condition. If there is delay it's ok,\n",
    "#but if model predict not, there might not be delay, There might be delay due to another reasons. \n",
    "#Actually, this model give the importance of weather features that is effective on weather delay.\n"
   ]
  }
 ],
 "metadata": {
  "kernelspec": {
   "display_name": "Python 3 (ipykernel)",
   "language": "python",
   "name": "python3"
  },
  "language_info": {
   "codemirror_mode": {
    "name": "ipython",
    "version": 3
   },
   "file_extension": ".py",
   "mimetype": "text/x-python",
   "name": "python",
   "nbconvert_exporter": "python",
   "pygments_lexer": "ipython3",
   "version": "3.9.13"
  }
 },
 "nbformat": 4,
 "nbformat_minor": 5
}
