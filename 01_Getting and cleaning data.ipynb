{
 "cells": [
  {
   "cell_type": "code",
   "execution_count": 1,
   "id": "79e710cd",
   "metadata": {},
   "outputs": [],
   "source": [
    "import pandas as pd\n",
    "import numpy as np\n",
    "import seaborn as sns\n",
    "import matplotlib.pyplot as plt\n",
    "from matplotlib.pyplot import figure\n",
    "from scipy import stats\n",
    "%matplotlib inline"
   ]
  },
  {
   "cell_type": "markdown",
   "id": "b46b62bc",
   "metadata": {},
   "source": [
    "# Getting Data"
   ]
  },
  {
   "cell_type": "code",
   "execution_count": 41,
   "id": "54d78d15",
   "metadata": {},
   "outputs": [],
   "source": [
    "df=pd.read_csv('DS_airline_delay_causes.csv')"
   ]
  },
  {
   "cell_type": "code",
   "execution_count": 42,
   "id": "a918f291",
   "metadata": {},
   "outputs": [
    {
     "data": {
      "text/plain": [
       "(73282, 22)"
      ]
     },
     "execution_count": 42,
     "metadata": {},
     "output_type": "execute_result"
    }
   ],
   "source": [
    "#dataset size\n",
    "df.shape"
   ]
  },
  {
   "cell_type": "code",
   "execution_count": 43,
   "id": "a526e44b",
   "metadata": {},
   "outputs": [
    {
     "data": {
      "text/plain": [
       "Index(['year', ' month', 'carrier', 'carrier_name', 'airport', 'airport_name',\n",
       "       'arr_flights', 'arr_del15', 'carrier_ct', ' weather_ct', 'nas_ct',\n",
       "       'security_ct', 'late_aircraft_ct', 'arr_cancelled', 'arr_diverted',\n",
       "       ' arr_delay', ' carrier_delay', 'weather_delay', 'nas_delay',\n",
       "       'security_delay', 'late_aircraft_delay', 'Unnamed: 21'],\n",
       "      dtype='object')"
      ]
     },
     "execution_count": 43,
     "metadata": {},
     "output_type": "execute_result"
    }
   ],
   "source": [
    "#features\n",
    "df.columns"
   ]
  },
  {
   "cell_type": "code",
   "execution_count": 44,
   "id": "c5bc458d",
   "metadata": {},
   "outputs": [
    {
     "data": {
      "text/html": [
       "<div>\n",
       "<style scoped>\n",
       "    .dataframe tbody tr th:only-of-type {\n",
       "        vertical-align: middle;\n",
       "    }\n",
       "\n",
       "    .dataframe tbody tr th {\n",
       "        vertical-align: top;\n",
       "    }\n",
       "\n",
       "    .dataframe thead th {\n",
       "        text-align: right;\n",
       "    }\n",
       "</style>\n",
       "<table border=\"1\" class=\"dataframe\">\n",
       "  <thead>\n",
       "    <tr style=\"text-align: right;\">\n",
       "      <th></th>\n",
       "      <th>year</th>\n",
       "      <th>month</th>\n",
       "      <th>carrier</th>\n",
       "      <th>carrier_name</th>\n",
       "      <th>airport</th>\n",
       "      <th>airport_name</th>\n",
       "      <th>arr_flights</th>\n",
       "      <th>arr_del15</th>\n",
       "      <th>carrier_ct</th>\n",
       "      <th>weather_ct</th>\n",
       "      <th>...</th>\n",
       "      <th>late_aircraft_ct</th>\n",
       "      <th>arr_cancelled</th>\n",
       "      <th>arr_diverted</th>\n",
       "      <th>arr_delay</th>\n",
       "      <th>carrier_delay</th>\n",
       "      <th>weather_delay</th>\n",
       "      <th>nas_delay</th>\n",
       "      <th>security_delay</th>\n",
       "      <th>late_aircraft_delay</th>\n",
       "      <th>Unnamed: 21</th>\n",
       "    </tr>\n",
       "  </thead>\n",
       "  <tbody>\n",
       "    <tr>\n",
       "      <th>0</th>\n",
       "      <td>2009</td>\n",
       "      <td>11</td>\n",
       "      <td>AS</td>\n",
       "      <td>Alaska Airlines Inc.</td>\n",
       "      <td>DCA</td>\n",
       "      <td>Washington, DC: Ronald Reagan Washington National</td>\n",
       "      <td>88.0</td>\n",
       "      <td>11.0</td>\n",
       "      <td>1.99</td>\n",
       "      <td>0.00</td>\n",
       "      <td>...</td>\n",
       "      <td>0.00</td>\n",
       "      <td>0.0</td>\n",
       "      <td>0.0</td>\n",
       "      <td>266.0</td>\n",
       "      <td>65.0</td>\n",
       "      <td>0.0</td>\n",
       "      <td>201.0</td>\n",
       "      <td>0.0</td>\n",
       "      <td>0.0</td>\n",
       "      <td>NaN</td>\n",
       "    </tr>\n",
       "    <tr>\n",
       "      <th>1</th>\n",
       "      <td>2009</td>\n",
       "      <td>11</td>\n",
       "      <td>AS</td>\n",
       "      <td>Alaska Airlines Inc.</td>\n",
       "      <td>DEN</td>\n",
       "      <td>Denver, CO: Denver International</td>\n",
       "      <td>123.0</td>\n",
       "      <td>5.0</td>\n",
       "      <td>3.47</td>\n",
       "      <td>0.00</td>\n",
       "      <td>...</td>\n",
       "      <td>0.00</td>\n",
       "      <td>0.0</td>\n",
       "      <td>0.0</td>\n",
       "      <td>81.0</td>\n",
       "      <td>57.0</td>\n",
       "      <td>0.0</td>\n",
       "      <td>24.0</td>\n",
       "      <td>0.0</td>\n",
       "      <td>0.0</td>\n",
       "      <td>NaN</td>\n",
       "    </tr>\n",
       "    <tr>\n",
       "      <th>2</th>\n",
       "      <td>2009</td>\n",
       "      <td>11</td>\n",
       "      <td>AS</td>\n",
       "      <td>Alaska Airlines Inc.</td>\n",
       "      <td>DFW</td>\n",
       "      <td>Dallas/Fort Worth, TX: Dallas/Fort Worth Inter...</td>\n",
       "      <td>66.0</td>\n",
       "      <td>6.0</td>\n",
       "      <td>1.28</td>\n",
       "      <td>0.69</td>\n",
       "      <td>...</td>\n",
       "      <td>0.00</td>\n",
       "      <td>0.0</td>\n",
       "      <td>0.0</td>\n",
       "      <td>176.0</td>\n",
       "      <td>64.0</td>\n",
       "      <td>11.0</td>\n",
       "      <td>101.0</td>\n",
       "      <td>0.0</td>\n",
       "      <td>0.0</td>\n",
       "      <td>NaN</td>\n",
       "    </tr>\n",
       "    <tr>\n",
       "      <th>3</th>\n",
       "      <td>2009</td>\n",
       "      <td>11</td>\n",
       "      <td>AS</td>\n",
       "      <td>Alaska Airlines Inc.</td>\n",
       "      <td>EWR</td>\n",
       "      <td>Newark, NJ: Newark Liberty International</td>\n",
       "      <td>59.0</td>\n",
       "      <td>10.0</td>\n",
       "      <td>0.24</td>\n",
       "      <td>0.00</td>\n",
       "      <td>...</td>\n",
       "      <td>0.56</td>\n",
       "      <td>0.0</td>\n",
       "      <td>0.0</td>\n",
       "      <td>553.0</td>\n",
       "      <td>8.0</td>\n",
       "      <td>0.0</td>\n",
       "      <td>526.0</td>\n",
       "      <td>0.0</td>\n",
       "      <td>19.0</td>\n",
       "      <td>NaN</td>\n",
       "    </tr>\n",
       "    <tr>\n",
       "      <th>4</th>\n",
       "      <td>2009</td>\n",
       "      <td>11</td>\n",
       "      <td>AS</td>\n",
       "      <td>Alaska Airlines Inc.</td>\n",
       "      <td>HNL</td>\n",
       "      <td>Honolulu, HI: Daniel K Inouye International</td>\n",
       "      <td>85.0</td>\n",
       "      <td>18.0</td>\n",
       "      <td>1.34</td>\n",
       "      <td>1.46</td>\n",
       "      <td>...</td>\n",
       "      <td>0.00</td>\n",
       "      <td>0.0</td>\n",
       "      <td>0.0</td>\n",
       "      <td>547.0</td>\n",
       "      <td>85.0</td>\n",
       "      <td>89.0</td>\n",
       "      <td>373.0</td>\n",
       "      <td>0.0</td>\n",
       "      <td>0.0</td>\n",
       "      <td>NaN</td>\n",
       "    </tr>\n",
       "  </tbody>\n",
       "</table>\n",
       "<p>5 rows × 22 columns</p>\n",
       "</div>"
      ],
      "text/plain": [
       "   year   month carrier          carrier_name airport  \\\n",
       "0  2009      11      AS  Alaska Airlines Inc.     DCA   \n",
       "1  2009      11      AS  Alaska Airlines Inc.     DEN   \n",
       "2  2009      11      AS  Alaska Airlines Inc.     DFW   \n",
       "3  2009      11      AS  Alaska Airlines Inc.     EWR   \n",
       "4  2009      11      AS  Alaska Airlines Inc.     HNL   \n",
       "\n",
       "                                        airport_name  arr_flights  arr_del15  \\\n",
       "0  Washington, DC: Ronald Reagan Washington National         88.0       11.0   \n",
       "1                   Denver, CO: Denver International        123.0        5.0   \n",
       "2  Dallas/Fort Worth, TX: Dallas/Fort Worth Inter...         66.0        6.0   \n",
       "3           Newark, NJ: Newark Liberty International         59.0       10.0   \n",
       "4        Honolulu, HI: Daniel K Inouye International         85.0       18.0   \n",
       "\n",
       "   carrier_ct   weather_ct  ...  late_aircraft_ct  arr_cancelled  \\\n",
       "0        1.99         0.00  ...              0.00            0.0   \n",
       "1        3.47         0.00  ...              0.00            0.0   \n",
       "2        1.28         0.69  ...              0.00            0.0   \n",
       "3        0.24         0.00  ...              0.56            0.0   \n",
       "4        1.34         1.46  ...              0.00            0.0   \n",
       "\n",
       "   arr_diverted   arr_delay   carrier_delay  weather_delay  nas_delay  \\\n",
       "0           0.0       266.0            65.0            0.0      201.0   \n",
       "1           0.0        81.0            57.0            0.0       24.0   \n",
       "2           0.0       176.0            64.0           11.0      101.0   \n",
       "3           0.0       553.0             8.0            0.0      526.0   \n",
       "4           0.0       547.0            85.0           89.0      373.0   \n",
       "\n",
       "   security_delay  late_aircraft_delay  Unnamed: 21  \n",
       "0             0.0                  0.0          NaN  \n",
       "1             0.0                  0.0          NaN  \n",
       "2             0.0                  0.0          NaN  \n",
       "3             0.0                 19.0          NaN  \n",
       "4             0.0                  0.0          NaN  \n",
       "\n",
       "[5 rows x 22 columns]"
      ]
     },
     "execution_count": 44,
     "metadata": {},
     "output_type": "execute_result"
    }
   ],
   "source": [
    "df.head()"
   ]
  },
  {
   "cell_type": "code",
   "execution_count": 45,
   "id": "709e2347",
   "metadata": {},
   "outputs": [
    {
     "name": "stdout",
     "output_type": "stream",
     "text": [
      "<class 'pandas.core.frame.DataFrame'>\n",
      "RangeIndex: 73282 entries, 0 to 73281\n",
      "Data columns (total 22 columns):\n",
      " #   Column               Non-Null Count  Dtype  \n",
      "---  ------               --------------  -----  \n",
      " 0   year                 73282 non-null  int64  \n",
      " 1    month               73282 non-null  int64  \n",
      " 2   carrier              73282 non-null  object \n",
      " 3   carrier_name         73282 non-null  object \n",
      " 4   airport              73282 non-null  object \n",
      " 5   airport_name         73282 non-null  object \n",
      " 6   arr_flights          73240 non-null  float64\n",
      " 7   arr_del15            73211 non-null  float64\n",
      " 8   carrier_ct           73240 non-null  float64\n",
      " 9    weather_ct          73240 non-null  float64\n",
      " 10  nas_ct               73240 non-null  float64\n",
      " 11  security_ct          73240 non-null  float64\n",
      " 12  late_aircraft_ct     73240 non-null  float64\n",
      " 13  arr_cancelled        73240 non-null  float64\n",
      " 14  arr_diverted         73240 non-null  float64\n",
      " 15   arr_delay           73240 non-null  float64\n",
      " 16   carrier_delay       73240 non-null  float64\n",
      " 17  weather_delay        73240 non-null  float64\n",
      " 18  nas_delay            73240 non-null  float64\n",
      " 19  security_delay       73240 non-null  float64\n",
      " 20  late_aircraft_delay  73240 non-null  float64\n",
      " 21  Unnamed: 21          0 non-null      float64\n",
      "dtypes: float64(16), int64(2), object(4)\n",
      "memory usage: 12.3+ MB\n"
     ]
    }
   ],
   "source": [
    "df.info()"
   ]
  },
  {
   "cell_type": "code",
   "execution_count": 46,
   "id": "d79a0a97",
   "metadata": {},
   "outputs": [],
   "source": [
    "#cleaning white space from columns name\n",
    "df.rename(columns={' month':'month',' weather_ct':'weather_ct',' arr_delay':'arr_delay',' carrier_delay':'carrier_delay'},inplace=True)\n"
   ]
  },
  {
   "cell_type": "markdown",
   "id": "6a191dd8",
   "metadata": {},
   "source": [
    "# Features Descriptions\n",
    "\n",
    "* year : Year\n",
    "* month : Month\n",
    "* carrier : The airline's code\n",
    "* carrier_name : The airline's full name\n",
    "* airport : The airport's code\n",
    "* airport_name: The airport's full name, including \"city & state & name of airport\"\n",
    "* arr_flights : Number of flights arriving at airport\n",
    "* arr_del15 : Number of flights more than 15 minutes late\n",
    "    * carrier_ct : Number of flights delayed due to air carrier. (e.g. no crew)\n",
    "    * weather_ct : Number of flights delayed due to weather\n",
    "    * nas_ct: Number of flights delayed due to National Aviation System (e.g. heavy air traffic)\n",
    "    * security_ct : Number of flights delayed due to a security breach\n",
    "    * late_aircraft_ct : Number of flights delayed as a result of another flight on the same aircraft delayed\n",
    "* arr_cancelled : Number of cancelled flights\n",
    "* arr_diverted : Number of flights that were diverted\n",
    "* arr_delay : Total time (minutes) of delayed flight\n",
    "    * carrier_delay : Total time (minutes) of delay due to air carrier\n",
    "    * weather_delay : Total time (minutes) of delay due to inclement weather\n",
    "    * nas_delay : Total time (minutes) of delay due to National Aviation System\n",
    "    * security_delay : Total time (minutes) of delay as a result of a security issue\n",
    "    * late_aircraft_delay : Total time (minutes) of delay flights as a result of a previous flight on the same airplane being late"
   ]
  },
  {
   "cell_type": "code",
   "execution_count": 47,
   "id": "a2d49aef",
   "metadata": {
    "scrolled": true
   },
   "outputs": [
    {
     "data": {
      "text/html": [
       "<div>\n",
       "<style scoped>\n",
       "    .dataframe tbody tr th:only-of-type {\n",
       "        vertical-align: middle;\n",
       "    }\n",
       "\n",
       "    .dataframe tbody tr th {\n",
       "        vertical-align: top;\n",
       "    }\n",
       "\n",
       "    .dataframe thead th {\n",
       "        text-align: right;\n",
       "    }\n",
       "</style>\n",
       "<table border=\"1\" class=\"dataframe\">\n",
       "  <thead>\n",
       "    <tr style=\"text-align: right;\">\n",
       "      <th></th>\n",
       "      <th>year</th>\n",
       "      <th>month</th>\n",
       "      <th>arr_flights</th>\n",
       "      <th>arr_del15</th>\n",
       "      <th>carrier_ct</th>\n",
       "      <th>weather_ct</th>\n",
       "      <th>nas_ct</th>\n",
       "      <th>security_ct</th>\n",
       "      <th>late_aircraft_ct</th>\n",
       "      <th>arr_cancelled</th>\n",
       "      <th>arr_diverted</th>\n",
       "      <th>arr_delay</th>\n",
       "      <th>carrier_delay</th>\n",
       "      <th>weather_delay</th>\n",
       "      <th>nas_delay</th>\n",
       "      <th>security_delay</th>\n",
       "      <th>late_aircraft_delay</th>\n",
       "      <th>Unnamed: 21</th>\n",
       "    </tr>\n",
       "  </thead>\n",
       "  <tbody>\n",
       "    <tr>\n",
       "      <th>count</th>\n",
       "      <td>73282.000000</td>\n",
       "      <td>73282.000000</td>\n",
       "      <td>73240.000000</td>\n",
       "      <td>73211.000000</td>\n",
       "      <td>73240.000000</td>\n",
       "      <td>73240.000000</td>\n",
       "      <td>73240.000000</td>\n",
       "      <td>73240.000000</td>\n",
       "      <td>73240.000000</td>\n",
       "      <td>73240.000000</td>\n",
       "      <td>73240.000000</td>\n",
       "      <td>73240.000000</td>\n",
       "      <td>73240.000000</td>\n",
       "      <td>73240.000000</td>\n",
       "      <td>73240.000000</td>\n",
       "      <td>73240.000000</td>\n",
       "      <td>73240.000000</td>\n",
       "      <td>0.0</td>\n",
       "    </tr>\n",
       "    <tr>\n",
       "      <th>mean</th>\n",
       "      <td>2011.191684</td>\n",
       "      <td>6.576499</td>\n",
       "      <td>993.874235</td>\n",
       "      <td>191.557594</td>\n",
       "      <td>46.916813</td>\n",
       "      <td>6.167805</td>\n",
       "      <td>74.535534</td>\n",
       "      <td>0.430516</td>\n",
       "      <td>63.431131</td>\n",
       "      <td>18.667955</td>\n",
       "      <td>2.305380</td>\n",
       "      <td>11335.262807</td>\n",
       "      <td>3059.317873</td>\n",
       "      <td>527.980093</td>\n",
       "      <td>3592.494866</td>\n",
       "      <td>17.295330</td>\n",
       "      <td>4138.167695</td>\n",
       "      <td>NaN</td>\n",
       "    </tr>\n",
       "    <tr>\n",
       "      <th>std</th>\n",
       "      <td>5.083600</td>\n",
       "      <td>3.446558</td>\n",
       "      <td>1854.978795</td>\n",
       "      <td>362.768908</td>\n",
       "      <td>80.788101</td>\n",
       "      <td>16.563787</td>\n",
       "      <td>162.961171</td>\n",
       "      <td>1.406218</td>\n",
       "      <td>135.432397</td>\n",
       "      <td>69.355569</td>\n",
       "      <td>7.276267</td>\n",
       "      <td>23121.325039</td>\n",
       "      <td>6159.240736</td>\n",
       "      <td>1505.558172</td>\n",
       "      <td>9061.308550</td>\n",
       "      <td>63.384061</td>\n",
       "      <td>8986.566307</td>\n",
       "      <td>NaN</td>\n",
       "    </tr>\n",
       "    <tr>\n",
       "      <th>min</th>\n",
       "      <td>2003.000000</td>\n",
       "      <td>1.000000</td>\n",
       "      <td>1.000000</td>\n",
       "      <td>0.000000</td>\n",
       "      <td>0.000000</td>\n",
       "      <td>0.000000</td>\n",
       "      <td>-0.010000</td>\n",
       "      <td>0.000000</td>\n",
       "      <td>0.000000</td>\n",
       "      <td>0.000000</td>\n",
       "      <td>0.000000</td>\n",
       "      <td>0.000000</td>\n",
       "      <td>0.000000</td>\n",
       "      <td>0.000000</td>\n",
       "      <td>-19.000000</td>\n",
       "      <td>0.000000</td>\n",
       "      <td>0.000000</td>\n",
       "      <td>NaN</td>\n",
       "    </tr>\n",
       "    <tr>\n",
       "      <th>25%</th>\n",
       "      <td>2007.000000</td>\n",
       "      <td>4.000000</td>\n",
       "      <td>124.000000</td>\n",
       "      <td>24.000000</td>\n",
       "      <td>7.510000</td>\n",
       "      <td>0.000000</td>\n",
       "      <td>7.737500</td>\n",
       "      <td>0.000000</td>\n",
       "      <td>4.350000</td>\n",
       "      <td>0.000000</td>\n",
       "      <td>0.000000</td>\n",
       "      <td>1216.000000</td>\n",
       "      <td>374.000000</td>\n",
       "      <td>0.000000</td>\n",
       "      <td>288.000000</td>\n",
       "      <td>0.000000</td>\n",
       "      <td>246.000000</td>\n",
       "      <td>NaN</td>\n",
       "    </tr>\n",
       "    <tr>\n",
       "      <th>50%</th>\n",
       "      <td>2011.000000</td>\n",
       "      <td>7.000000</td>\n",
       "      <td>331.000000</td>\n",
       "      <td>68.000000</td>\n",
       "      <td>19.920000</td>\n",
       "      <td>1.400000</td>\n",
       "      <td>23.880000</td>\n",
       "      <td>0.000000</td>\n",
       "      <td>15.750000</td>\n",
       "      <td>3.000000</td>\n",
       "      <td>0.000000</td>\n",
       "      <td>3580.000000</td>\n",
       "      <td>1079.000000</td>\n",
       "      <td>91.000000</td>\n",
       "      <td>952.000000</td>\n",
       "      <td>0.000000</td>\n",
       "      <td>996.000000</td>\n",
       "      <td>NaN</td>\n",
       "    </tr>\n",
       "    <tr>\n",
       "      <th>75%</th>\n",
       "      <td>2016.000000</td>\n",
       "      <td>10.000000</td>\n",
       "      <td>866.000000</td>\n",
       "      <td>175.000000</td>\n",
       "      <td>48.400000</td>\n",
       "      <td>5.400000</td>\n",
       "      <td>66.050000</td>\n",
       "      <td>0.090000</td>\n",
       "      <td>51.310000</td>\n",
       "      <td>12.000000</td>\n",
       "      <td>2.000000</td>\n",
       "      <td>9927.000000</td>\n",
       "      <td>2836.000000</td>\n",
       "      <td>425.000000</td>\n",
       "      <td>2878.250000</td>\n",
       "      <td>4.000000</td>\n",
       "      <td>3429.000000</td>\n",
       "      <td>NaN</td>\n",
       "    </tr>\n",
       "    <tr>\n",
       "      <th>max</th>\n",
       "      <td>2020.000000</td>\n",
       "      <td>12.000000</td>\n",
       "      <td>21977.000000</td>\n",
       "      <td>6377.000000</td>\n",
       "      <td>1792.070000</td>\n",
       "      <td>641.540000</td>\n",
       "      <td>4091.270000</td>\n",
       "      <td>80.560000</td>\n",
       "      <td>1885.470000</td>\n",
       "      <td>4951.000000</td>\n",
       "      <td>256.000000</td>\n",
       "      <td>433687.000000</td>\n",
       "      <td>196944.000000</td>\n",
       "      <td>57707.000000</td>\n",
       "      <td>238440.000000</td>\n",
       "      <td>3194.000000</td>\n",
       "      <td>148181.000000</td>\n",
       "      <td>NaN</td>\n",
       "    </tr>\n",
       "  </tbody>\n",
       "</table>\n",
       "</div>"
      ],
      "text/plain": [
       "               year         month   arr_flights     arr_del15    carrier_ct  \\\n",
       "count  73282.000000  73282.000000  73240.000000  73211.000000  73240.000000   \n",
       "mean    2011.191684      6.576499    993.874235    191.557594     46.916813   \n",
       "std        5.083600      3.446558   1854.978795    362.768908     80.788101   \n",
       "min     2003.000000      1.000000      1.000000      0.000000      0.000000   \n",
       "25%     2007.000000      4.000000    124.000000     24.000000      7.510000   \n",
       "50%     2011.000000      7.000000    331.000000     68.000000     19.920000   \n",
       "75%     2016.000000     10.000000    866.000000    175.000000     48.400000   \n",
       "max     2020.000000     12.000000  21977.000000   6377.000000   1792.070000   \n",
       "\n",
       "         weather_ct        nas_ct   security_ct  late_aircraft_ct  \\\n",
       "count  73240.000000  73240.000000  73240.000000      73240.000000   \n",
       "mean       6.167805     74.535534      0.430516         63.431131   \n",
       "std       16.563787    162.961171      1.406218        135.432397   \n",
       "min        0.000000     -0.010000      0.000000          0.000000   \n",
       "25%        0.000000      7.737500      0.000000          4.350000   \n",
       "50%        1.400000     23.880000      0.000000         15.750000   \n",
       "75%        5.400000     66.050000      0.090000         51.310000   \n",
       "max      641.540000   4091.270000     80.560000       1885.470000   \n",
       "\n",
       "       arr_cancelled  arr_diverted      arr_delay  carrier_delay  \\\n",
       "count   73240.000000  73240.000000   73240.000000   73240.000000   \n",
       "mean       18.667955      2.305380   11335.262807    3059.317873   \n",
       "std        69.355569      7.276267   23121.325039    6159.240736   \n",
       "min         0.000000      0.000000       0.000000       0.000000   \n",
       "25%         0.000000      0.000000    1216.000000     374.000000   \n",
       "50%         3.000000      0.000000    3580.000000    1079.000000   \n",
       "75%        12.000000      2.000000    9927.000000    2836.000000   \n",
       "max      4951.000000    256.000000  433687.000000  196944.000000   \n",
       "\n",
       "       weather_delay      nas_delay  security_delay  late_aircraft_delay  \\\n",
       "count   73240.000000   73240.000000    73240.000000         73240.000000   \n",
       "mean      527.980093    3592.494866       17.295330          4138.167695   \n",
       "std      1505.558172    9061.308550       63.384061          8986.566307   \n",
       "min         0.000000     -19.000000        0.000000             0.000000   \n",
       "25%         0.000000     288.000000        0.000000           246.000000   \n",
       "50%        91.000000     952.000000        0.000000           996.000000   \n",
       "75%       425.000000    2878.250000        4.000000          3429.000000   \n",
       "max     57707.000000  238440.000000     3194.000000        148181.000000   \n",
       "\n",
       "       Unnamed: 21  \n",
       "count          0.0  \n",
       "mean           NaN  \n",
       "std            NaN  \n",
       "min            NaN  \n",
       "25%            NaN  \n",
       "50%            NaN  \n",
       "75%            NaN  \n",
       "max            NaN  "
      ]
     },
     "execution_count": 47,
     "metadata": {},
     "output_type": "execute_result"
    }
   ],
   "source": [
    "#Descriptive statistics of dataset \n",
    "df.describe()"
   ]
  },
  {
   "cell_type": "markdown",
   "id": "1eaa5a79",
   "metadata": {},
   "source": [
    "# Data Cleaning - Dealing with missing values"
   ]
  },
  {
   "cell_type": "code",
   "execution_count": 48,
   "id": "0f18ea88",
   "metadata": {},
   "outputs": [],
   "source": [
    "#drop \n",
    "df=df.drop('Unnamed: 21',axis=1)"
   ]
  },
  {
   "cell_type": "code",
   "execution_count": 49,
   "id": "e14d9337",
   "metadata": {},
   "outputs": [
    {
     "data": {
      "text/plain": [
       "year                    0\n",
       "month                   0\n",
       "carrier                 0\n",
       "carrier_name            0\n",
       "airport                 0\n",
       "airport_name            0\n",
       "arr_flights            42\n",
       "arr_del15              71\n",
       "carrier_ct             42\n",
       "weather_ct             42\n",
       "nas_ct                 42\n",
       "security_ct            42\n",
       "late_aircraft_ct       42\n",
       "arr_cancelled          42\n",
       "arr_diverted           42\n",
       "arr_delay              42\n",
       "carrier_delay          42\n",
       "weather_delay          42\n",
       "nas_delay              42\n",
       "security_delay         42\n",
       "late_aircraft_delay    42\n",
       "dtype: int64"
      ]
     },
     "execution_count": 49,
     "metadata": {},
     "output_type": "execute_result"
    }
   ],
   "source": [
    "#count of missing values\n",
    "np.sum(df.isna())"
   ]
  },
  {
   "cell_type": "code",
   "execution_count": 50,
   "id": "78091ec0",
   "metadata": {},
   "outputs": [
    {
     "data": {
      "text/html": [
       "<div>\n",
       "<style scoped>\n",
       "    .dataframe tbody tr th:only-of-type {\n",
       "        vertical-align: middle;\n",
       "    }\n",
       "\n",
       "    .dataframe tbody tr th {\n",
       "        vertical-align: top;\n",
       "    }\n",
       "\n",
       "    .dataframe thead th {\n",
       "        text-align: right;\n",
       "    }\n",
       "</style>\n",
       "<table border=\"1\" class=\"dataframe\">\n",
       "  <thead>\n",
       "    <tr style=\"text-align: right;\">\n",
       "      <th></th>\n",
       "      <th>year</th>\n",
       "      <th>month</th>\n",
       "      <th>carrier</th>\n",
       "      <th>carrier_name</th>\n",
       "      <th>airport</th>\n",
       "      <th>airport_name</th>\n",
       "      <th>arr_flights</th>\n",
       "      <th>arr_del15</th>\n",
       "      <th>carrier_ct</th>\n",
       "      <th>weather_ct</th>\n",
       "      <th>...</th>\n",
       "      <th>security_ct</th>\n",
       "      <th>late_aircraft_ct</th>\n",
       "      <th>arr_cancelled</th>\n",
       "      <th>arr_diverted</th>\n",
       "      <th>arr_delay</th>\n",
       "      <th>carrier_delay</th>\n",
       "      <th>weather_delay</th>\n",
       "      <th>nas_delay</th>\n",
       "      <th>security_delay</th>\n",
       "      <th>late_aircraft_delay</th>\n",
       "    </tr>\n",
       "  </thead>\n",
       "  <tbody>\n",
       "    <tr>\n",
       "      <th>981</th>\n",
       "      <td>2010</td>\n",
       "      <td>1</td>\n",
       "      <td>OO</td>\n",
       "      <td>SkyWest Airlines Inc.</td>\n",
       "      <td>CLT</td>\n",
       "      <td>Charlotte, NC: Charlotte Douglas International</td>\n",
       "      <td>NaN</td>\n",
       "      <td>NaN</td>\n",
       "      <td>NaN</td>\n",
       "      <td>NaN</td>\n",
       "      <td>...</td>\n",
       "      <td>NaN</td>\n",
       "      <td>NaN</td>\n",
       "      <td>NaN</td>\n",
       "      <td>NaN</td>\n",
       "      <td>NaN</td>\n",
       "      <td>NaN</td>\n",
       "      <td>NaN</td>\n",
       "      <td>NaN</td>\n",
       "      <td>NaN</td>\n",
       "      <td>NaN</td>\n",
       "    </tr>\n",
       "    <tr>\n",
       "      <th>2884</th>\n",
       "      <td>2019</td>\n",
       "      <td>3</td>\n",
       "      <td>EV</td>\n",
       "      <td>ExpressJet Airlines Inc.</td>\n",
       "      <td>PHL</td>\n",
       "      <td>Philadelphia, PA: Philadelphia International</td>\n",
       "      <td>1.0</td>\n",
       "      <td>NaN</td>\n",
       "      <td>0.0</td>\n",
       "      <td>0.0</td>\n",
       "      <td>...</td>\n",
       "      <td>0.0</td>\n",
       "      <td>0.0</td>\n",
       "      <td>1.0</td>\n",
       "      <td>0.0</td>\n",
       "      <td>0.0</td>\n",
       "      <td>0.0</td>\n",
       "      <td>0.0</td>\n",
       "      <td>0.0</td>\n",
       "      <td>0.0</td>\n",
       "      <td>0.0</td>\n",
       "    </tr>\n",
       "    <tr>\n",
       "      <th>6915</th>\n",
       "      <td>2012</td>\n",
       "      <td>9</td>\n",
       "      <td>F9</td>\n",
       "      <td>Frontier Airlines Inc.</td>\n",
       "      <td>ORD</td>\n",
       "      <td>Chicago, IL: Chicago O'Hare International</td>\n",
       "      <td>NaN</td>\n",
       "      <td>NaN</td>\n",
       "      <td>NaN</td>\n",
       "      <td>NaN</td>\n",
       "      <td>...</td>\n",
       "      <td>NaN</td>\n",
       "      <td>NaN</td>\n",
       "      <td>NaN</td>\n",
       "      <td>NaN</td>\n",
       "      <td>NaN</td>\n",
       "      <td>NaN</td>\n",
       "      <td>NaN</td>\n",
       "      <td>NaN</td>\n",
       "      <td>NaN</td>\n",
       "      <td>NaN</td>\n",
       "    </tr>\n",
       "    <tr>\n",
       "      <th>7214</th>\n",
       "      <td>2012</td>\n",
       "      <td>10</td>\n",
       "      <td>F9</td>\n",
       "      <td>Frontier Airlines Inc.</td>\n",
       "      <td>ORD</td>\n",
       "      <td>Chicago, IL: Chicago O'Hare International</td>\n",
       "      <td>NaN</td>\n",
       "      <td>NaN</td>\n",
       "      <td>NaN</td>\n",
       "      <td>NaN</td>\n",
       "      <td>...</td>\n",
       "      <td>NaN</td>\n",
       "      <td>NaN</td>\n",
       "      <td>NaN</td>\n",
       "      <td>NaN</td>\n",
       "      <td>NaN</td>\n",
       "      <td>NaN</td>\n",
       "      <td>NaN</td>\n",
       "      <td>NaN</td>\n",
       "      <td>NaN</td>\n",
       "      <td>NaN</td>\n",
       "    </tr>\n",
       "    <tr>\n",
       "      <th>12623</th>\n",
       "      <td>2003</td>\n",
       "      <td>9</td>\n",
       "      <td>RU</td>\n",
       "      <td>ExpressJet Airlines Inc.</td>\n",
       "      <td>TPA</td>\n",
       "      <td>Tampa, FL: Tampa International</td>\n",
       "      <td>NaN</td>\n",
       "      <td>NaN</td>\n",
       "      <td>NaN</td>\n",
       "      <td>NaN</td>\n",
       "      <td>...</td>\n",
       "      <td>NaN</td>\n",
       "      <td>NaN</td>\n",
       "      <td>NaN</td>\n",
       "      <td>NaN</td>\n",
       "      <td>NaN</td>\n",
       "      <td>NaN</td>\n",
       "      <td>NaN</td>\n",
       "      <td>NaN</td>\n",
       "      <td>NaN</td>\n",
       "      <td>NaN</td>\n",
       "    </tr>\n",
       "    <tr>\n",
       "      <th>...</th>\n",
       "      <td>...</td>\n",
       "      <td>...</td>\n",
       "      <td>...</td>\n",
       "      <td>...</td>\n",
       "      <td>...</td>\n",
       "      <td>...</td>\n",
       "      <td>...</td>\n",
       "      <td>...</td>\n",
       "      <td>...</td>\n",
       "      <td>...</td>\n",
       "      <td>...</td>\n",
       "      <td>...</td>\n",
       "      <td>...</td>\n",
       "      <td>...</td>\n",
       "      <td>...</td>\n",
       "      <td>...</td>\n",
       "      <td>...</td>\n",
       "      <td>...</td>\n",
       "      <td>...</td>\n",
       "      <td>...</td>\n",
       "      <td>...</td>\n",
       "    </tr>\n",
       "    <tr>\n",
       "      <th>69589</th>\n",
       "      <td>2007</td>\n",
       "      <td>11</td>\n",
       "      <td>EV</td>\n",
       "      <td>Atlantic Southeast Airlines</td>\n",
       "      <td>MDW</td>\n",
       "      <td>Chicago, IL: Chicago Midway International</td>\n",
       "      <td>NaN</td>\n",
       "      <td>NaN</td>\n",
       "      <td>NaN</td>\n",
       "      <td>NaN</td>\n",
       "      <td>...</td>\n",
       "      <td>NaN</td>\n",
       "      <td>NaN</td>\n",
       "      <td>NaN</td>\n",
       "      <td>NaN</td>\n",
       "      <td>NaN</td>\n",
       "      <td>NaN</td>\n",
       "      <td>NaN</td>\n",
       "      <td>NaN</td>\n",
       "      <td>NaN</td>\n",
       "      <td>NaN</td>\n",
       "    </tr>\n",
       "    <tr>\n",
       "      <th>70004</th>\n",
       "      <td>2007</td>\n",
       "      <td>12</td>\n",
       "      <td>EV</td>\n",
       "      <td>Atlantic Southeast Airlines</td>\n",
       "      <td>JFK</td>\n",
       "      <td>New York, NY: John F. Kennedy International</td>\n",
       "      <td>NaN</td>\n",
       "      <td>NaN</td>\n",
       "      <td>NaN</td>\n",
       "      <td>NaN</td>\n",
       "      <td>...</td>\n",
       "      <td>NaN</td>\n",
       "      <td>NaN</td>\n",
       "      <td>NaN</td>\n",
       "      <td>NaN</td>\n",
       "      <td>NaN</td>\n",
       "      <td>NaN</td>\n",
       "      <td>NaN</td>\n",
       "      <td>NaN</td>\n",
       "      <td>NaN</td>\n",
       "      <td>NaN</td>\n",
       "    </tr>\n",
       "    <tr>\n",
       "      <th>70998</th>\n",
       "      <td>2009</td>\n",
       "      <td>7</td>\n",
       "      <td>UA</td>\n",
       "      <td>United Air Lines Inc.</td>\n",
       "      <td>MIA</td>\n",
       "      <td>Miami, FL: Miami International</td>\n",
       "      <td>NaN</td>\n",
       "      <td>NaN</td>\n",
       "      <td>NaN</td>\n",
       "      <td>NaN</td>\n",
       "      <td>...</td>\n",
       "      <td>NaN</td>\n",
       "      <td>NaN</td>\n",
       "      <td>NaN</td>\n",
       "      <td>NaN</td>\n",
       "      <td>NaN</td>\n",
       "      <td>NaN</td>\n",
       "      <td>NaN</td>\n",
       "      <td>NaN</td>\n",
       "      <td>NaN</td>\n",
       "      <td>NaN</td>\n",
       "    </tr>\n",
       "    <tr>\n",
       "      <th>71686</th>\n",
       "      <td>2016</td>\n",
       "      <td>9</td>\n",
       "      <td>EV</td>\n",
       "      <td>ExpressJet Airlines Inc.</td>\n",
       "      <td>FLL</td>\n",
       "      <td>Fort Lauderdale, FL: Fort Lauderdale-Hollywood...</td>\n",
       "      <td>NaN</td>\n",
       "      <td>NaN</td>\n",
       "      <td>NaN</td>\n",
       "      <td>NaN</td>\n",
       "      <td>...</td>\n",
       "      <td>NaN</td>\n",
       "      <td>NaN</td>\n",
       "      <td>NaN</td>\n",
       "      <td>NaN</td>\n",
       "      <td>NaN</td>\n",
       "      <td>NaN</td>\n",
       "      <td>NaN</td>\n",
       "      <td>NaN</td>\n",
       "      <td>NaN</td>\n",
       "      <td>NaN</td>\n",
       "    </tr>\n",
       "    <tr>\n",
       "      <th>72221</th>\n",
       "      <td>2016</td>\n",
       "      <td>11</td>\n",
       "      <td>EV</td>\n",
       "      <td>ExpressJet Airlines Inc.</td>\n",
       "      <td>MIA</td>\n",
       "      <td>Miami, FL: Miami International</td>\n",
       "      <td>NaN</td>\n",
       "      <td>NaN</td>\n",
       "      <td>NaN</td>\n",
       "      <td>NaN</td>\n",
       "      <td>...</td>\n",
       "      <td>NaN</td>\n",
       "      <td>NaN</td>\n",
       "      <td>NaN</td>\n",
       "      <td>NaN</td>\n",
       "      <td>NaN</td>\n",
       "      <td>NaN</td>\n",
       "      <td>NaN</td>\n",
       "      <td>NaN</td>\n",
       "      <td>NaN</td>\n",
       "      <td>NaN</td>\n",
       "    </tr>\n",
       "  </tbody>\n",
       "</table>\n",
       "<p>71 rows × 21 columns</p>\n",
       "</div>"
      ],
      "text/plain": [
       "       year  month carrier                 carrier_name airport  \\\n",
       "981    2010      1      OO        SkyWest Airlines Inc.     CLT   \n",
       "2884   2019      3      EV     ExpressJet Airlines Inc.     PHL   \n",
       "6915   2012      9      F9       Frontier Airlines Inc.     ORD   \n",
       "7214   2012     10      F9       Frontier Airlines Inc.     ORD   \n",
       "12623  2003      9      RU     ExpressJet Airlines Inc.     TPA   \n",
       "...     ...    ...     ...                          ...     ...   \n",
       "69589  2007     11      EV  Atlantic Southeast Airlines     MDW   \n",
       "70004  2007     12      EV  Atlantic Southeast Airlines     JFK   \n",
       "70998  2009      7      UA        United Air Lines Inc.     MIA   \n",
       "71686  2016      9      EV     ExpressJet Airlines Inc.     FLL   \n",
       "72221  2016     11      EV     ExpressJet Airlines Inc.     MIA   \n",
       "\n",
       "                                            airport_name  arr_flights  \\\n",
       "981       Charlotte, NC: Charlotte Douglas International          NaN   \n",
       "2884        Philadelphia, PA: Philadelphia International          1.0   \n",
       "6915           Chicago, IL: Chicago O'Hare International          NaN   \n",
       "7214           Chicago, IL: Chicago O'Hare International          NaN   \n",
       "12623                     Tampa, FL: Tampa International          NaN   \n",
       "...                                                  ...          ...   \n",
       "69589          Chicago, IL: Chicago Midway International          NaN   \n",
       "70004        New York, NY: John F. Kennedy International          NaN   \n",
       "70998                     Miami, FL: Miami International          NaN   \n",
       "71686  Fort Lauderdale, FL: Fort Lauderdale-Hollywood...          NaN   \n",
       "72221                     Miami, FL: Miami International          NaN   \n",
       "\n",
       "       arr_del15  carrier_ct  weather_ct  ...  security_ct  late_aircraft_ct  \\\n",
       "981          NaN         NaN         NaN  ...          NaN               NaN   \n",
       "2884         NaN         0.0         0.0  ...          0.0               0.0   \n",
       "6915         NaN         NaN         NaN  ...          NaN               NaN   \n",
       "7214         NaN         NaN         NaN  ...          NaN               NaN   \n",
       "12623        NaN         NaN         NaN  ...          NaN               NaN   \n",
       "...          ...         ...         ...  ...          ...               ...   \n",
       "69589        NaN         NaN         NaN  ...          NaN               NaN   \n",
       "70004        NaN         NaN         NaN  ...          NaN               NaN   \n",
       "70998        NaN         NaN         NaN  ...          NaN               NaN   \n",
       "71686        NaN         NaN         NaN  ...          NaN               NaN   \n",
       "72221        NaN         NaN         NaN  ...          NaN               NaN   \n",
       "\n",
       "       arr_cancelled  arr_diverted  arr_delay  carrier_delay  weather_delay  \\\n",
       "981              NaN           NaN        NaN            NaN            NaN   \n",
       "2884             1.0           0.0        0.0            0.0            0.0   \n",
       "6915             NaN           NaN        NaN            NaN            NaN   \n",
       "7214             NaN           NaN        NaN            NaN            NaN   \n",
       "12623            NaN           NaN        NaN            NaN            NaN   \n",
       "...              ...           ...        ...            ...            ...   \n",
       "69589            NaN           NaN        NaN            NaN            NaN   \n",
       "70004            NaN           NaN        NaN            NaN            NaN   \n",
       "70998            NaN           NaN        NaN            NaN            NaN   \n",
       "71686            NaN           NaN        NaN            NaN            NaN   \n",
       "72221            NaN           NaN        NaN            NaN            NaN   \n",
       "\n",
       "       nas_delay  security_delay  late_aircraft_delay  \n",
       "981          NaN             NaN                  NaN  \n",
       "2884         0.0             0.0                  0.0  \n",
       "6915         NaN             NaN                  NaN  \n",
       "7214         NaN             NaN                  NaN  \n",
       "12623        NaN             NaN                  NaN  \n",
       "...          ...             ...                  ...  \n",
       "69589        NaN             NaN                  NaN  \n",
       "70004        NaN             NaN                  NaN  \n",
       "70998        NaN             NaN                  NaN  \n",
       "71686        NaN             NaN                  NaN  \n",
       "72221        NaN             NaN                  NaN  \n",
       "\n",
       "[71 rows x 21 columns]"
      ]
     },
     "execution_count": 50,
     "metadata": {},
     "output_type": "execute_result"
    }
   ],
   "source": [
    "#rows containing missing value\n",
    "df[df.isna().any(axis=1)]"
   ]
  },
  {
   "cell_type": "code",
   "execution_count": 51,
   "id": "a7b04626",
   "metadata": {},
   "outputs": [],
   "source": [
    "#drop rows containing missing value\n",
    "df.dropna(inplace=True,axis=0)"
   ]
  },
  {
   "cell_type": "markdown",
   "id": "50597e5d",
   "metadata": {},
   "source": [
    "# Feature extraction"
   ]
  },
  {
   "cell_type": "code",
   "execution_count": 52,
   "id": "053d545e",
   "metadata": {},
   "outputs": [],
   "source": [
    "# Extract city and sate\n",
    "df['city_state']=df['airport_name'].agg(lambda x:x.split(':')[0])\n",
    "df['city']=df['city_state'].agg(lambda x:x.split(',')[0])\n",
    "df['state']=df['city_state'].agg(lambda x:x.split(',')[1])"
   ]
  },
  {
   "cell_type": "code",
   "execution_count": 53,
   "id": "ff5aee0a",
   "metadata": {},
   "outputs": [],
   "source": [
    "# Include date as year-month format\n",
    "df['year_month']=df['year'].astype(str)+'-'+df['month'].astype(str)\n",
    "df['year_month']=pd.to_datetime(df['year_month']).dt.strftime('%Y-%m')"
   ]
  },
  {
   "cell_type": "code",
   "execution_count": 54,
   "id": "d2264fd0",
   "metadata": {},
   "outputs": [],
   "source": [
    "df.to_csv('df_clean_zerog.csv')"
   ]
  },
  {
   "cell_type": "code",
   "execution_count": 55,
   "id": "276755ff",
   "metadata": {},
   "outputs": [],
   "source": [
    "df['del_avg_dur']=df['arr_delay']/df['arr_del15']"
   ]
  },
  {
   "cell_type": "code",
   "execution_count": 56,
   "id": "50803e81",
   "metadata": {},
   "outputs": [
    {
     "data": {
      "text/plain": [
       "928"
      ]
     },
     "execution_count": 56,
     "metadata": {},
     "output_type": "execute_result"
    }
   ],
   "source": [
    "np.sum(df.del_avg_dur.isna())"
   ]
  },
  {
   "cell_type": "code",
   "execution_count": 57,
   "id": "85eeca26",
   "metadata": {},
   "outputs": [],
   "source": [
    "df.fillna(0,inplace=True)"
   ]
  },
  {
   "cell_type": "code",
   "execution_count": 65,
   "id": "d517fa03",
   "metadata": {},
   "outputs": [],
   "source": [
    "df.to_csv('df_clean.csv',index=False)"
   ]
  },
  {
   "cell_type": "markdown",
   "id": "722734d4",
   "metadata": {},
   "source": [
    "# Dealing with Outliers"
   ]
  },
  {
   "cell_type": "code",
   "execution_count": 19,
   "id": "a08c2330",
   "metadata": {},
   "outputs": [
    {
     "data": {
      "text/plain": [
       "count    73211.000000\n",
       "mean        54.284136\n",
       "std         20.432435\n",
       "min          0.000000\n",
       "25%         43.395180\n",
       "50%         52.600000\n",
       "75%         63.055770\n",
       "max       1399.000000\n",
       "Name: del_avg_dur, dtype: float64"
      ]
     },
     "execution_count": 19,
     "metadata": {},
     "output_type": "execute_result"
    }
   ],
   "source": [
    "#Descriptive statistics of dataset Average delay (minutes) per flight\n",
    "df['del_avg_dur'].describe()"
   ]
  },
  {
   "cell_type": "code",
   "execution_count": 20,
   "id": "cc3b92d7",
   "metadata": {
    "scrolled": false
   },
   "outputs": [
    {
     "data": {
      "text/plain": [
       "year                                                        2017\n",
       "month                                                         10\n",
       "carrier                                                       EV\n",
       "carrier_name                            ExpressJet Airlines Inc.\n",
       "airport                                                      MDW\n",
       "airport_name           Chicago, IL: Chicago Midway International\n",
       "arr_flights                                                  5.0\n",
       "arr_del15                                                    1.0\n",
       "carrier_ct                                                   1.0\n",
       "weather_ct                                                   0.0\n",
       "nas_ct                                                       0.0\n",
       "security_ct                                                  0.0\n",
       "late_aircraft_ct                                             0.0\n",
       "arr_cancelled                                                0.0\n",
       "arr_diverted                                                 0.0\n",
       "arr_delay                                                 1399.0\n",
       "carrier_delay                                             1399.0\n",
       "weather_delay                                                0.0\n",
       "nas_delay                                                    0.0\n",
       "security_delay                                               0.0\n",
       "late_aircraft_delay                                          0.0\n",
       "city_state                                           Chicago, IL\n",
       "city                                                     Chicago\n",
       "state                                                         IL\n",
       "year_month                                               2017-10\n",
       "del_avg_dur                                               1399.0\n",
       "Name: 45709, dtype: object"
      ]
     },
     "execution_count": 20,
     "metadata": {},
     "output_type": "execute_result"
    }
   ],
   "source": [
    "#maximum average delay (minutes) per flight\n",
    "df.iloc[np.argmax(df['del_avg_dur']),:]"
   ]
  },
  {
   "cell_type": "code",
   "execution_count": 21,
   "id": "384accfa",
   "metadata": {},
   "outputs": [
    {
     "data": {
      "image/png": "[encoded data removed]",
      "text/plain": [
       "<Figure size 640x480 with 1 Axes>"
      ]
     },
     "metadata": {},
     "output_type": "display_data"
    }
   ],
   "source": [
    "#box and whisker plot of average delay (minutes) per flight\n",
    "df.boxplot(column=['del_avg_dur']);"
   ]
  },
  {
   "cell_type": "code",
   "execution_count": 22,
   "id": "96a7c6af",
   "metadata": {},
   "outputs": [
    {
     "data": {
      "text/plain": [
       "''"
      ]
     },
     "execution_count": 22,
     "metadata": {},
     "output_type": "execute_result"
    },
    {
     "data": {
      "image/png": "[encoded data removed]",
      "text/plain": [
       "<Figure size 640x480 with 1 Axes>"
      ]
     },
     "metadata": {},
     "output_type": "display_data"
    }
   ],
   "source": [
    "#Histogram of average delay (minutes) per flight\n",
    "\n",
    "n, bins, patches=plt.hist(df['del_avg_dur'],bins=100,density = 1, color ='green',alpha = 0.7)\n",
    "mu = np.mean(df['del_avg_dur'] )\n",
    "sigma = np.std(df['del_avg_dur'])\n",
    "y = ((1 / (np.sqrt(2 * np.pi) * sigma)) *\n",
    "     np.exp(-0.5 * (1 / sigma * (bins - mu))**2))\n",
    "  \n",
    "plt.plot(bins, y, '--', color ='black')\n",
    ";"
   ]
  },
  {
   "cell_type": "code",
   "execution_count": 23,
   "id": "ae999d88",
   "metadata": {},
   "outputs": [],
   "source": [
    "#Zscore method\n",
    "out_low=df[stats.zscore(df['del_avg_dur'])<-3]\n",
    "out_high=df[stats.zscore(df['del_avg_dur'])>3]\n"
   ]
  },
  {
   "cell_type": "code",
   "execution_count": 24,
   "id": "bdd2a4f4",
   "metadata": {},
   "outputs": [
    {
     "data": {
      "text/plain": [
       "(0, 26)"
      ]
     },
     "execution_count": 24,
     "metadata": {},
     "output_type": "execute_result"
    }
   ],
   "source": [
    "out_low.shape"
   ]
  },
  {
   "cell_type": "code",
   "execution_count": 25,
   "id": "b411427c",
   "metadata": {},
   "outputs": [
    {
     "data": {
      "text/plain": [
       "(526, 26)"
      ]
     },
     "execution_count": 25,
     "metadata": {},
     "output_type": "execute_result"
    }
   ],
   "source": [
    "out_high.shape"
   ]
  },
  {
   "cell_type": "code",
   "execution_count": 26,
   "id": "fc963bd5",
   "metadata": {},
   "outputs": [],
   "source": [
    "#drop outlier from data set based on average delay per flight\n",
    "df_wout=df.drop(out_high.index,axis=0)"
   ]
  },
  {
   "cell_type": "code",
   "execution_count": 27,
   "id": "bcb4379a",
   "metadata": {},
   "outputs": [
    {
     "data": {
      "text/plain": [
       "(72685, 26)"
      ]
     },
     "execution_count": 27,
     "metadata": {},
     "output_type": "execute_result"
    }
   ],
   "source": [
    "df_wout.shape"
   ]
  },
  {
   "cell_type": "code",
   "execution_count": 28,
   "id": "b4ae97d7",
   "metadata": {},
   "outputs": [
    {
     "data": {
      "text/plain": [
       "(73211, 26)"
      ]
     },
     "execution_count": 28,
     "metadata": {},
     "output_type": "execute_result"
    }
   ],
   "source": [
    "df.shape"
   ]
  },
  {
   "cell_type": "code",
   "execution_count": 29,
   "id": "785c3f25",
   "metadata": {},
   "outputs": [
    {
     "data": {
      "image/png": "[encoded data removed]",
      "text/plain": [
       "<Figure size 640x480 with 1 Axes>"
      ]
     },
     "metadata": {},
     "output_type": "display_data"
    }
   ],
   "source": [
    "sns.boxplot(\n",
    "    data=df_wout['del_avg_dur'],\n",
    "    notch=True, showcaps=False,\n",
    "    flierprops={\"marker\": \"x\"},\n",
    "    boxprops={\"facecolor\": (.4, .6, .8, .5)},\n",
    "    medianprops={\"color\": \"coral\"},\n",
    ");"
   ]
  },
  {
   "cell_type": "code",
   "execution_count": 30,
   "id": "ee8daa05",
   "metadata": {
    "scrolled": false
   },
   "outputs": [
    {
     "data": {
      "text/plain": [
       "''"
      ]
     },
     "execution_count": 30,
     "metadata": {},
     "output_type": "execute_result"
    },
    {
     "data": {
      "image/png": "[encoded data removed]",
      "text/plain": [
       "<Figure size 640x480 with 1 Axes>"
      ]
     },
     "metadata": {},
     "output_type": "display_data"
    }
   ],
   "source": [
    "#Distribution of observations based on average delay per flight after dropping outliers\n",
    "#It seems normal\n",
    "n, bins, patches=plt.hist(df_wout['del_avg_dur'],bins=100,density = 1, color ='green',alpha = 0.7)\n",
    "mu = np.mean(df_wout['del_avg_dur'] )\n",
    "sigma = np.std(df_wout['del_avg_dur'])\n",
    "y = ((1 / (np.sqrt(2 * np.pi) * sigma)) *\n",
    "     np.exp(-0.5 * (1 / sigma * (bins - mu))**2))\n",
    "  \n",
    "plt.plot(bins, y, '--', color ='black')\n",
    ";\n"
   ]
  },
  {
   "attachments": {
    "Screen-Shot-2022-06-13-at-10.20.58-AM%20%281%29.png": {
     "image/png": "[encoded data removed]"
    }
   },
   "cell_type": "markdown",
   "id": "874d7cb1",
   "metadata": {},
   "source": [
    "![Screen-Shot-2022-06-13-at-10.20.58-AM%20%281%29.png](attachment:Screen-Shot-2022-06-13-at-10.20.58-AM%20%281%29.png)"
   ]
  },
  {
   "cell_type": "code",
   "execution_count": 31,
   "id": "320fbc12",
   "metadata": {},
   "outputs": [
    {
     "name": "stdout",
     "output_type": "stream",
     "text": [
      "The null hypothesis can be rejected - x comes from a normal distribution \n"
     ]
    }
   ],
   "source": [
    "#Test normal distribution of average delay per flight\n",
    "k2, p_value = stats.normaltest(df_wout['del_avg_dur'])\n",
    "alpha=0.05\n",
    "if p_value < alpha:\n",
    "    print(\"The null hypothesis can be rejected - x comes from a normal distribution \")\n",
    "else:\n",
    "    print(\"The null hypothesis cannot be rejected - x is not normally distributed\")"
   ]
  },
  {
   "cell_type": "markdown",
   "id": "2a169baf",
   "metadata": {},
   "source": [
    "# Define classes based on mean and standard deviation\n",
    "* short = delay less than or equal to mean-std (36 min)\n",
    "* medium = delay between mean-std and mean+std (36 - 70)\n",
    "* long = delay greater than mean+std (70 min)\n"
   ]
  },
  {
   "cell_type": "code",
   "execution_count": 32,
   "id": "ec09dc4d",
   "metadata": {},
   "outputs": [
    {
     "data": {
      "text/plain": [
       "53.51309270027202"
      ]
     },
     "execution_count": 32,
     "metadata": {},
     "output_type": "execute_result"
    }
   ],
   "source": [
    "m_del=np.mean(df_wout.del_avg_dur)\n",
    "m_del"
   ]
  },
  {
   "cell_type": "code",
   "execution_count": 33,
   "id": "17456712",
   "metadata": {},
   "outputs": [
    {
     "data": {
      "text/plain": [
       "16.538740744185514"
      ]
     },
     "execution_count": 33,
     "metadata": {},
     "output_type": "execute_result"
    }
   ],
   "source": [
    "s_del=np.std(df_wout.del_avg_dur)\n",
    "s_del"
   ]
  },
  {
   "cell_type": "code",
   "execution_count": 34,
   "id": "d4b57234",
   "metadata": {},
   "outputs": [
    {
     "data": {
      "text/plain": [
       "36.97435195608651"
      ]
     },
     "execution_count": 34,
     "metadata": {},
     "output_type": "execute_result"
    }
   ],
   "source": [
    "m_del-1*s_del"
   ]
  },
  {
   "cell_type": "code",
   "execution_count": 35,
   "id": "cd01bfbb",
   "metadata": {
    "scrolled": true
   },
   "outputs": [
    {
     "data": {
      "text/plain": [
       "70.05183344445753"
      ]
     },
     "execution_count": 35,
     "metadata": {},
     "output_type": "execute_result"
    }
   ],
   "source": [
    "m_del+1*s_del"
   ]
  },
  {
   "cell_type": "code",
   "execution_count": 36,
   "id": "7c77411d",
   "metadata": {},
   "outputs": [],
   "source": [
    "del_clas_desc={\n",
    "'short' : 'delay less than or equal to 36 min',\n",
    "'medium' : 'delay between 36.1 and 70',\n",
    "'long' : 'delay greater than 70.1'\n",
    "}"
   ]
  },
  {
   "cell_type": "code",
   "execution_count": 37,
   "id": "8169ddb0",
   "metadata": {},
   "outputs": [],
   "source": [
    "df_wout['del_class']=df_wout['del_avg_dur'].agg(lambda x: 'short' if x<=36 else('medium' if x<=70 else 'long'))"
   ]
  },
  {
   "cell_type": "code",
   "execution_count": 38,
   "id": "c6d7dbc8",
   "metadata": {},
   "outputs": [],
   "source": [
    "df_wout.to_csv('df_wout.csv')"
   ]
  }
 ],
 "metadata": {
  "kernelspec": {
   "display_name": "Python 3 (ipykernel)",
   "language": "python",
   "name": "python3"
  },
  "language_info": {
   "codemirror_mode": {
    "name": "ipython",
    "version": 3
   },
   "file_extension": ".py",
   "mimetype": "text/x-python",
   "name": "python",
   "nbconvert_exporter": "python",
   "pygments_lexer": "ipython3",
   "version": "3.9.13"
  }
 },
 "nbformat": 4,
 "nbformat_minor": 5
}
